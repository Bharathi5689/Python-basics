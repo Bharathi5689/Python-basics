{
 "cells": [
  {
   "cell_type": "code",
   "execution_count": 1,
   "id": "388a8c56",
   "metadata": {},
   "outputs": [
    {
     "name": "stdout",
     "output_type": "stream",
     "text": [
      "the reverse of number is 12345\n",
      "\n",
      "\n",
      "the sum is 6.0\n",
      " \n",
      "\n",
      "* \n",
      "* * \n",
      "* * * \n",
      "* * * * \n",
      "* * * * *  \n",
      "* * * *  \n",
      "* * *  \n",
      "* *  \n",
      "*  \n",
      "\n",
      "the fibonacci of 10 is 144\n",
      " \n",
      "The cube of 0 is 0\n",
      "The cube of 1 is 1\n",
      "The cube of 2 is 8\n",
      "The cube of 3 is 27\n",
      "The cube of 4 is 64\n",
      "The cube of 5 is 125\n",
      " \n",
      "0:0 1:1 2:8 3:27 4:64 5:125  \n"
     ]
    }
   ],
   "source": [
    "class PyNative():\n",
    "    \n",
    "    def __init__(self):\n",
    "        pass\n",
    "    \n",
    "    def reverse_integer_number(self, n):\n",
    "        rev_number = \"\"\n",
    "        for i in range(len(n)-1, -1, -1):\n",
    "            rev_number += n[i]\n",
    "        return rev_number\n",
    "    \n",
    "    def sum_of_series(self, n):\n",
    "        for i in range(0, n+1, 1):\n",
    "            sum_of_series = n*(n+1)/2\n",
    "        return sum_of_series\n",
    "    \n",
    "    def print_pattern(self, n):\n",
    "        for i in range(n):\n",
    "            for j in range(i):\n",
    "                print(\"*\", end =\" \")\n",
    "            print(\"\")\n",
    "        for i in range(n, 0, -1):\n",
    "            for j in range(i, 0, -1):\n",
    "                print(\"*\", end =\" \")\n",
    "            print(\" \")\n",
    "            \n",
    "    def fibonacci(self, end):\n",
    "        num_1 = 0\n",
    "        num_2 = 1\n",
    "        for i in range(0, end + 1):\n",
    "            #print(num_1, end = \" \")\n",
    "            result = num_1 + num_2\n",
    "            num_1 = num_2\n",
    "            num_2 = result \n",
    "        return result\n",
    "        \n",
    "    def cube(self,start,end):\n",
    "        cube = []\n",
    "        for i in range(start, end +1):\n",
    "            cubes = i*i*i\n",
    "            cube.append((i, cubes))\n",
    "        return cube\n",
    "    \n",
    "    \n",
    "    def cube_1(self, start, end):\n",
    "        cubes = {}\n",
    "        for i in range(start, end + 1):\n",
    "            cubes[i] = i * i * i\n",
    "        return i,cubes\n",
    "    \n",
    "    \n",
    "\n",
    "    \n",
    "pynative = PyNative()\n",
    "\n",
    "x = pynative.reverse_integer_number(\"54321\")\n",
    "print(f\"the reverse of number is {x}\")\n",
    "print(\"\\n\")\n",
    "\n",
    "x = pynative.sum_of_series(3)\n",
    "print(f\"the sum is {x}\")\n",
    "print(\" \")\n",
    "    \n",
    "x = pynative.print_pattern(5)\n",
    "print(\"\")\n",
    "\n",
    "y = 10\n",
    "x = pynative.fibonacci(y)\n",
    "print(f\"the fibonacci of {y} is {x}\")\n",
    "print(\" \")\n",
    "\n",
    "x = pynative.cube(0,5)\n",
    "for num, cubes in x:\n",
    "    print(f\"The cube of {num} is {cubes}\")\n",
    "print(\" \")\n",
    "\n",
    "y = pynative.cube_1(0,5)\n",
    "for k, v in x:\n",
    "    print(f\"{k}:{v}\",end = \" \")\n",
    "print(\" \")\n",
    "   \n"
   ]
  },
  {
   "cell_type": "markdown",
   "id": "fda1dcf3",
   "metadata": {},
   "source": [
    "# Dict for Month"
   ]
  },
  {
   "cell_type": "code",
   "execution_count": null,
   "id": "e97d8a3f",
   "metadata": {},
   "outputs": [],
   "source": [
    "class PyNative():\n",
    "    \n",
    "    def __init__(self):\n",
    "        pass\n",
    "    \n",
    "    def month_name(self,month):\n",
    "        month_data = {'January': 31, 'February': 28, 'March': 31, 'April': 30, 'May': 31}\n",
    "        for k,v in month_data.items():\n",
    "            if k == month:\n",
    "                return k,v\n",
    "        return 0\n",
    "\n",
    "pynative = PyNative()\n",
    "\n",
    "y = pynative.month_name(\"May\")\n",
    "if y:\n",
    "    k,v = y\n",
    "    print(f\"Number of days in {k}  is {v} \")\n",
    "else:\n",
    "    print(\"month is not present\")\n"
   ]
  },
  {
   "cell_type": "markdown",
   "id": "a4ba8a7b",
   "metadata": {},
   "source": [
    "# Dict Value for cubes"
   ]
  },
  {
   "cell_type": "code",
   "execution_count": 7,
   "id": "a5b2f2fa",
   "metadata": {},
   "outputs": [
    {
     "name": "stdout",
     "output_type": "stream",
     "text": [
      "The cube of 0 is 0\n",
      "The cube of 1 is 1\n",
      "The cube of 2 is 8\n",
      "The cube of 3 is 27\n",
      "The cube of 4 is 64\n",
      "The cube of 5 is 125\n"
     ]
    }
   ],
   "source": [
    "class PyNative():\n",
    "    \n",
    "    def __init__(self):\n",
    "        pass\n",
    "    \n",
    "    def cube(self, start, end):\n",
    "        cubes = {}\n",
    "        for i in range(start, end + 1):\n",
    "            \n",
    "            cubes[i] = i * i * i\n",
    "        return cubes\n",
    "\n",
    "pynative = PyNative()\n",
    "y = pynative.cube(0,5)\n",
    "for k,v in y.items():\n",
    "    print(f\"The cube of {k} is {v}\", end=\"\\n\")\n"
   ]
  },
  {
   "cell_type": "code",
   "execution_count": 8,
   "id": "bcb12738",
   "metadata": {},
   "outputs": [
    {
     "data": {
      "text/plain": [
       "3"
      ]
     },
     "execution_count": 8,
     "metadata": {},
     "output_type": "execute_result"
    }
   ],
   "source": [
    "153%10"
   ]
  },
  {
   "cell_type": "code",
   "execution_count": 10,
   "id": "a86e70f7",
   "metadata": {},
   "outputs": [
    {
     "data": {
      "text/plain": [
       "15"
      ]
     },
     "execution_count": 10,
     "metadata": {},
     "output_type": "execute_result"
    }
   ],
   "source": [
    "153//10"
   ]
  },
  {
   "cell_type": "code",
   "execution_count": 11,
   "id": "4b80a0ed",
   "metadata": {},
   "outputs": [
    {
     "data": {
      "text/plain": [
       "15.3"
      ]
     },
     "execution_count": 11,
     "metadata": {},
     "output_type": "execute_result"
    }
   ],
   "source": [
    "153/10"
   ]
  }
 ],
 "metadata": {
  "kernelspec": {
   "display_name": "Python 3 (ipykernel)",
   "language": "python",
   "name": "python3"
  },
  "language_info": {
   "codemirror_mode": {
    "name": "ipython",
    "version": 3
   },
   "file_extension": ".py",
   "mimetype": "text/x-python",
   "name": "python",
   "nbconvert_exporter": "python",
   "pygments_lexer": "ipython3",
   "version": "3.11.3"
  }
 },
 "nbformat": 4,
 "nbformat_minor": 5
}
