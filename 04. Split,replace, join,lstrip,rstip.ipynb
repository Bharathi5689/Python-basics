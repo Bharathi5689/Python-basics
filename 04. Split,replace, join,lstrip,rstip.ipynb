{
 "cells": [
  {
   "cell_type": "markdown",
   "id": "9354c25c",
   "metadata": {},
   "source": [
    "#  Leap year"
   ]
  },
  {
   "cell_type": "code",
   "execution_count": 3,
   "id": "ac4ba69c",
   "metadata": {},
   "outputs": [
    {
     "name": "stdout",
     "output_type": "stream",
     "text": [
      "2024\n",
      "True\n"
     ]
    }
   ],
   "source": [
    "def is_leap(year):\n",
    "    if year % 4 == 0:\n",
    "        if year % 100 == 0:\n",
    "            if year % 400 == 0:\n",
    "                return True\n",
    "            else:\n",
    "                return False\n",
    "        else:\n",
    "            return True\n",
    "    else:\n",
    "        return False\n",
    "\n",
    "\n",
    "year = int(input())\n",
    "print(is_leap(year))"
   ]
  },
  {
   "cell_type": "code",
   "execution_count": 4,
   "id": "6edf9fd3",
   "metadata": {},
   "outputs": [
    {
     "name": "stdout",
     "output_type": "stream",
     "text": [
      "2002\n",
      "False\n"
     ]
    }
   ],
   "source": [
    "def is_leap(year):\n",
    "    if year % 4 == 0:\n",
    "        if year % 100 == 0:\n",
    "            if year % 400 == 0:\n",
    "                return True\n",
    "            else:\n",
    "                return False\n",
    "        else:\n",
    "            return True\n",
    "    else:\n",
    "        return False\n",
    "year = int(input())\n",
    "print(is_leap(year))"
   ]
  },
  {
   "cell_type": "markdown",
   "id": "69c6aec2",
   "metadata": {},
   "source": [
    "# Input()"
   ]
  },
  {
   "cell_type": "code",
   "execution_count": 5,
   "id": "fa86a15d",
   "metadata": {},
   "outputs": [
    {
     "name": "stdout",
     "output_type": "stream",
     "text": [
      "5\n",
      "12345"
     ]
    }
   ],
   "source": [
    "n = int(input())\n",
    "\n",
    "for i in range (1,n+1):\n",
    "    print(i,end =\"\")"
   ]
  },
  {
   "cell_type": "markdown",
   "id": "b8d5bbde",
   "metadata": {},
   "source": [
    "# Product of Numbers"
   ]
  },
  {
   "cell_type": "code",
   "execution_count": 6,
   "id": "e4875da4",
   "metadata": {},
   "outputs": [
    {
     "name": "stdout",
     "output_type": "stream",
     "text": [
      "120\n"
     ]
    }
   ],
   "source": [
    "def product(arr) :\n",
    "    answer = 1\n",
    "    for i in range(1,arr +1):\n",
    "        answer = (answer * i) % (10**9 + 7)\n",
    "    print( answer )\n",
    "product(5)\n",
    "    \n",
    "    "
   ]
  },
  {
   "cell_type": "markdown",
   "id": "5200bff5",
   "metadata": {},
   "source": [
    "# join()\n"
   ]
  },
  {
   "cell_type": "code",
   "execution_count": 3,
   "id": "7ce23cc5",
   "metadata": {},
   "outputs": [
    {
     "name": "stdout",
     "output_type": "stream",
     "text": [
      "apple banana orange\n"
     ]
    }
   ],
   "source": [
    "list_1=[\"apple\",\"banana\",\"orange\"]\n",
    "y = \" \".join(list_1)\n",
    "print(y)"
   ]
  },
  {
   "cell_type": "code",
   "execution_count": 2,
   "id": "b3bef0ad",
   "metadata": {},
   "outputs": [
    {
     "name": "stdout",
     "output_type": "stream",
     "text": [
      "Appletestmango\n"
     ]
    }
   ],
   "source": [
    "my_dict ={'a':\"Apple\",'b':\"mango\",}\n",
    "separator = \"test\"\n",
    "x = separator.join(my_dict.values())\n",
    "print(x)"
   ]
  },
  {
   "cell_type": "code",
   "execution_count": 47,
   "id": "03a08071",
   "metadata": {},
   "outputs": [
    {
     "name": "stdout",
     "output_type": "stream",
     "text": [
      "14562\n"
     ]
    }
   ],
   "source": [
    "num1 = \"12\"\n",
    "num2 = \"456\"\n",
    "z = num2.join(num1)\n",
    "print(z)"
   ]
  },
  {
   "cell_type": "code",
   "execution_count": 51,
   "id": "05d98d3c",
   "metadata": {},
   "outputs": [
    {
     "name": "stdout",
     "output_type": "stream",
     "text": [
      "145624563\n"
     ]
    }
   ],
   "source": [
    "num1 = \"123\"\n",
    "num2 = \"456\"\n",
    "z = num2.join(num1)\n",
    "print(z)"
   ]
  },
  {
   "cell_type": "code",
   "execution_count": 53,
   "id": "952c91cb",
   "metadata": {},
   "outputs": [
    {
     "name": "stdout",
     "output_type": "stream",
     "text": [
      "h-e-l-l-o\n"
     ]
    }
   ],
   "source": [
    "str = '-'.join('hello')\n",
    "print(str)"
   ]
  },
  {
   "cell_type": "code",
   "execution_count": 55,
   "id": "5825de26",
   "metadata": {},
   "outputs": [
    {
     "name": "stdout",
     "output_type": "stream",
     "text": [
      "h-e-l-l-o\n"
     ]
    }
   ],
   "source": [
    "str = '-'.join(\"hello\")\n",
    "print(str)"
   ]
  },
  {
   "cell_type": "code",
   "execution_count": 58,
   "id": "239161b6",
   "metadata": {},
   "outputs": [
    {
     "name": "stdout",
     "output_type": "stream",
     "text": [
      "geeks\n",
      "g*e*e*k*s\n"
     ]
    }
   ],
   "source": [
    "list1=['g','e','e','k','s']\n",
    "print(\"\".join(list1))\n",
    "list1=\"geeks\"\n",
    "print(\"*\".join(list1))"
   ]
  },
  {
   "cell_type": "code",
   "execution_count": 67,
   "id": "16097ba2",
   "metadata": {},
   "outputs": [
    {
     "name": "stdout",
     "output_type": "stream",
     "text": [
      "1-2-3-4\n",
      "1&2&3&4\n"
     ]
    }
   ],
   "source": [
    "tup1 =('1','2','3','4')\n",
    "print(\"-\".join(tup1))\n",
    "\n",
    "tup1 =('1','2','3','4')\n",
    "s =\"&\"\n",
    "y = s.join(tup1)\n",
    "print(y)"
   ]
  },
  {
   "cell_type": "code",
   "execution_count": 69,
   "id": "87608d62",
   "metadata": {},
   "outputs": [
    {
     "name": "stdout",
     "output_type": "stream",
     "text": [
      "1-2-3\n"
     ]
    }
   ],
   "source": [
    "set1={'1','2','3'}\n",
    "print(\"-\".join(set1))\n"
   ]
  },
  {
   "cell_type": "code",
   "execution_count": 72,
   "id": "37393559",
   "metadata": {},
   "outputs": [
    {
     "name": "stdout",
     "output_type": "stream",
     "text": [
      "1^2^3\n"
     ]
    }
   ],
   "source": [
    "dict1={\"1\":'a',\"2\": 'b',\"3\":'c'}\n",
    "s=\"^\"\n",
    "print(s.join(dict1))"
   ]
  },
  {
   "cell_type": "code",
   "execution_count": 7,
   "id": "0446c542",
   "metadata": {},
   "outputs": [
    {
     "name": "stdout",
     "output_type": "stream",
     "text": [
      "apple##banana#cherry#\n",
      "apple#none#banana#cherry#none\n"
     ]
    }
   ],
   "source": [
    "words = [\"apple\",\"\",\"banana\",\"cherry\",\"\"]\n",
    "separator = \"#\"\n",
    "result = separator.join(words)\n",
    "result1 = separator.join(word if word else \"none\" for word in words )\n",
    "print(result)\n",
    "print(result1)"
   ]
  },
  {
   "cell_type": "markdown",
   "id": "081eb42d",
   "metadata": {},
   "source": [
    "# Comprehensive for (comparing with)  for loop"
   ]
  },
  {
   "cell_type": "code",
   "execution_count": 32,
   "id": "f14ea494",
   "metadata": {},
   "outputs": [
    {
     "name": "stdout",
     "output_type": "stream",
     "text": [
      "['apple', 'none', 'banana', 'cherry', 'none']\n"
     ]
    }
   ],
   "source": [
    "words = [\"apple\",\"\",\"banana\",\"cherry\",\"\"]\n",
    "result = [word  if word else \"none\" for word in words]\n",
    "print(result)"
   ]
  },
  {
   "cell_type": "code",
   "execution_count": 24,
   "id": "f41dd9fc",
   "metadata": {},
   "outputs": [
    {
     "name": "stdout",
     "output_type": "stream",
     "text": [
      "apple\n",
      "None\n",
      "banana\n",
      "cherry\n",
      "None\n"
     ]
    }
   ],
   "source": [
    "words = [\"apple\",\"\",\"banana\",\"cherry\",\"\"]\n",
    "\n",
    "for word in words:\n",
    "    if (word):\n",
    "        print(word)\n",
    "    else:\n",
    "        print(\"None\")\n",
    "        \n",
    "    \n",
    "    \n",
    "    "
   ]
  },
  {
   "cell_type": "markdown",
   "id": "3f070603",
   "metadata": {},
   "source": [
    "# split"
   ]
  },
  {
   "cell_type": "code",
   "execution_count": 9,
   "id": "21b83747",
   "metadata": {},
   "outputs": [
    {
     "name": "stdout",
     "output_type": "stream",
     "text": [
      "['one', 'two', 'three']\n"
     ]
    }
   ],
   "source": [
    "string = \"one8two8three\"\n",
    "words = string.split(\"8\")\n",
    "print(words)"
   ]
  },
  {
   "cell_type": "code",
   "execution_count": 91,
   "id": "b21b3b82",
   "metadata": {},
   "outputs": [
    {
     "name": "stdout",
     "output_type": "stream",
     "text": [
      "['geeks', 'for', 'geeks']\n",
      "['geeks', ' for', ' geeks']\n",
      "['geeks', ' for', ' geeks']\n",
      "['Ca', 'Ba', 'Sa', 'Fa', 'Or']\n"
     ]
    }
   ],
   "source": [
    "text =\"geeks for geeks\"\n",
    "print(text.split())\n",
    "\n",
    "word = 'geeks, for, geeks'\n",
    "print(word.split(','))\n",
    "\n",
    "word = 'geeks: for: geeks'\n",
    "print(word.split(':'))\n",
    "\n",
    "word = 'CatBatSatFatOr'\n",
    "print(word.split('t'))\n"
   ]
  },
  {
   "cell_type": "code",
   "execution_count": 6,
   "id": "bf09ebb1",
   "metadata": {},
   "outputs": [
    {
     "name": "stdout",
     "output_type": "stream",
     "text": [
      "['geeks', ' for', ' geeks']\n",
      "['geeks', 'for', 'geeks']\n"
     ]
    }
   ],
   "source": [
    "word = 'geeks, for, geeks'\n",
    "print(word.split(','))\n",
    "word = word.split(',')\n",
    "word = [w.strip() for w in word ]\n",
    "print(word)"
   ]
  },
  {
   "cell_type": "code",
   "execution_count": 98,
   "id": "a59b9c41",
   "metadata": {},
   "outputs": [
    {
     "name": "stdout",
     "output_type": "stream",
     "text": [
      "[' geeks, for, geeks, sakthi']\n",
      "[' geeks', ' for', ' geeks, sakthi']\n",
      "[' geeks', ' for', ' geeks', ' sakthi']\n",
      "[' geeks', ' for, geeks, sakthi']\n"
     ]
    }
   ],
   "source": [
    "word = \" geeks, for, geeks, sakthi\"\n",
    "\n",
    "print(word.split(',',0 ))\n",
    "\n",
    "print(word.split(',', 2))\n",
    "\n",
    "print(word.split(',',4))\n",
    "\n",
    "print(word.split(',',1))\n"
   ]
  },
  {
   "cell_type": "markdown",
   "id": "5b3308ee",
   "metadata": {},
   "source": [
    "# lstrip"
   ]
  },
  {
   "cell_type": "code",
   "execution_count": 11,
   "id": "c3b13de6",
   "metadata": {},
   "outputs": [
    {
     "name": "stdout",
     "output_type": "stream",
     "text": [
      "   string with leading and trailing whitespaces.\n",
      "string with leading and trailing whitespaces.   \n"
     ]
    }
   ],
   "source": [
    "str = \"   string with leading and trailing whitespaces.\"\n",
    "print(str.lstrip(\"\"))\n",
    "str = \"string with leading and trailing whitespaces.   \"\n",
    "print(str.rstrip('.'))"
   ]
  },
  {
   "cell_type": "code",
   "execution_count": 125,
   "id": "e7721231",
   "metadata": {},
   "outputs": [
    {
     "name": "stdout",
     "output_type": "stream",
     "text": [
      " geek\n"
     ]
    }
   ],
   "source": [
    "string = \" g  e  e  k\"\n",
    "print(string.replace(\"  \",\"\"))"
   ]
  },
  {
   "cell_type": "code",
   "execution_count": 8,
   "id": "3bba5680",
   "metadata": {},
   "outputs": [
    {
     "name": "stdout",
     "output_type": "stream",
     "text": [
      "['g', 'e', 'e', 's']\n"
     ]
    }
   ],
   "source": [
    "list_1 = ['g','e','e','k']\n",
    "list_1 =(str(list_1))\n",
    "print(list_1.replace('k','s'))"
   ]
  },
  {
   "cell_type": "code",
   "execution_count": 56,
   "id": "7825250c",
   "metadata": {},
   "outputs": [
    {
     "name": "stdout",
     "output_type": "stream",
     "text": [
      "geeek\n"
     ]
    }
   ],
   "source": [
    "list_1 =['g','e','e','e','k']\n",
    "print(\"\".join(list_1))\n"
   ]
  },
  {
   "cell_type": "code",
   "execution_count": 134,
   "id": "df1d95ac",
   "metadata": {},
   "outputs": [
    {
     "name": "stdout",
     "output_type": "stream",
     "text": [
      "geek\n"
     ]
    }
   ],
   "source": [
    "string = \" g e e k\"\n",
    "print(\"\".join(string.split()))\n"
   ]
  },
  {
   "cell_type": "code",
   "execution_count": 15,
   "id": "cc8f02a4",
   "metadata": {},
   "outputs": [
    {
     "name": "stdout",
     "output_type": "stream",
     "text": [
      "geeksforgeeks.org www.   \n",
      "   www.geeksforgeeks.org\n"
     ]
    }
   ],
   "source": [
    "string =\"   www.geeksforgeeks.org www.   \"\n",
    "\n",
    "string_new = string.lstrip(\" w.\")\n",
    "print(string_new)\n",
    "\n",
    "\n",
    "string_r =string.rstrip(\" w.\")\n",
    "print(string_r)"
   ]
  },
  {
   "cell_type": "code",
   "execution_count": 94,
   "id": "e81adb7f",
   "metadata": {},
   "outputs": [
    {
     "data": {
      "text/plain": [
       "'   www.geeksforgeeks.org .w. '"
      ]
     },
     "execution_count": 94,
     "metadata": {},
     "output_type": "execute_result"
    }
   ],
   "source": [
    "string =\"   www.geeksforgeeks.org .w. ww.\"\n",
    "string.rstrip('w.')"
   ]
  },
  {
   "cell_type": "markdown",
   "id": "b9f058e8",
   "metadata": {},
   "source": [
    "# replace"
   ]
  },
  {
   "cell_type": "code",
   "execution_count": 13,
   "id": "3ebf9d69",
   "metadata": {},
   "outputs": [
    {
     "name": "stdout",
     "output_type": "stream",
     "text": [
      "bharathi\n"
     ]
    }
   ],
   "source": [
    "string = \"b h a r a t h i\"\n",
    "x = string.replace(\" \",\"\")\n",
    "print(x)"
   ]
  },
  {
   "cell_type": "code",
   "execution_count": 12,
   "id": "12e03d90",
   "metadata": {},
   "outputs": [
    {
     "name": "stdout",
     "output_type": "stream",
     "text": [
      "['b', 'h', 'a', 'r', 'a', 't', 'h', 'i']\n",
      "bharathi\n"
     ]
    }
   ],
   "source": [
    "x = \"b h a r a t h i\"\n",
    "print(x.split(\" \"))\n",
    "print(''.join(x.split()))"
   ]
  },
  {
   "cell_type": "markdown",
   "id": "8d3fd78a",
   "metadata": {},
   "source": [
    "# comprehensive for"
   ]
  },
  {
   "cell_type": "code",
   "execution_count": 168,
   "id": "f02fc578",
   "metadata": {},
   "outputs": [
    {
     "name": "stdout",
     "output_type": "stream",
     "text": [
      "[1, 4, 9, 16, 25]\n"
     ]
    }
   ],
   "source": [
    "numbers =[1,2,3,4,5]\n",
    "square = [i ** 2 for i in numbers]\n",
    "print(square)"
   ]
  },
  {
   "cell_type": "code",
   "execution_count": 170,
   "id": "dd490065",
   "metadata": {},
   "outputs": [
    {
     "name": "stdout",
     "output_type": "stream",
     "text": [
      "[1, 4, 9, 16, 25]\n"
     ]
    }
   ],
   "source": [
    "numbers = [ 1, 2, 3 , 4 , 5]\n",
    "\n",
    "square = map(lambda x : x**2,numbers)\n",
    "result = list(square)\n",
    "print(result)"
   ]
  },
  {
   "cell_type": "code",
   "execution_count": 180,
   "id": "a26e8a5e",
   "metadata": {},
   "outputs": [
    {
     "name": "stdout",
     "output_type": "stream",
     "text": [
      "[4, 8]\n"
     ]
    }
   ],
   "source": [
    "number = [1,2,3,4,5]\n",
    "output =[]\n",
    "for i in number:\n",
    "    if i%2 == 0:\n",
    "        output.append(i*2)\n",
    "print( output)\n",
    "\n",
    "\n",
    "\n"
   ]
  },
  {
   "cell_type": "code",
   "execution_count": 199,
   "id": "41b567f9",
   "metadata": {},
   "outputs": [
    {
     "name": "stdout",
     "output_type": "stream",
     "text": [
      "[4, 8]\n"
     ]
    }
   ],
   "source": [
    "number = [1, 2, 3, 4, 5]\n",
    "output = [i * 2 for i in number if i % 2 == 0]\n",
    "print(output)"
   ]
  },
  {
   "cell_type": "code",
   "execution_count": 207,
   "id": "3fb92456",
   "metadata": {},
   "outputs": [
    {
     "name": "stdout",
     "output_type": "stream",
     "text": [
      "1\n",
      "3\n",
      "5\n",
      "[2, 4]\n"
     ]
    }
   ],
   "source": [
    "number = [1,2,3,4,5]\n",
    "ans =[]\n",
    "for i in number:\n",
    "    if i% 2 == 0:\n",
    "        ans.append(i)\n",
    "  \n",
    "    else:\n",
    "        print(\"False\")\n",
    "print(ans)\n"
   ]
  },
  {
   "cell_type": "code",
   "execution_count": 210,
   "id": "eb87aa93",
   "metadata": {},
   "outputs": [
    {
     "name": "stdout",
     "output_type": "stream",
     "text": [
      "[False, 2, False, 4, False]\n"
     ]
    }
   ],
   "source": [
    "number =[1,2,3,4,5]\n",
    "ans =[i if  i% 2 == 0 else False for i in number]\n",
    "print(ans)"
   ]
  },
  {
   "cell_type": "code",
   "execution_count": 195,
   "id": "0dc286bb",
   "metadata": {},
   "outputs": [
    {
     "name": "stdout",
     "output_type": "stream",
     "text": [
      "[1, 2, 3]\n"
     ]
    }
   ],
   "source": [
    "a = [1,2,3]\n",
    "b =[4,5,6]\n",
    "ans=[]\n",
    "for i in a:\n",
    "    if i not in b:\n",
    "        ans.append(i)\n",
    "print(ans)\n"
   ]
  },
  {
   "cell_type": "code",
   "execution_count": 198,
   "id": "05f09f2d",
   "metadata": {},
   "outputs": [
    {
     "name": "stdout",
     "output_type": "stream",
     "text": [
      "[1, 2, 3]\n"
     ]
    }
   ],
   "source": [
    "a = [1,2,3]\n",
    "b =[4,5,6]\n",
    "ans=[i for i in a if i not in b]\n",
    "print(ans)"
   ]
  },
  {
   "cell_type": "code",
   "execution_count": 212,
   "id": "53fb4026",
   "metadata": {},
   "outputs": [
    {
     "name": "stdout",
     "output_type": "stream",
     "text": [
      "[1, 4, 3, 8, 5]\n"
     ]
    }
   ],
   "source": [
    "number = [1, 2, 3, 4, 5]\n",
    "output = [i * 2 if i % 2 == 0 else i for i in number]\n",
    "print(output)\n"
   ]
  },
  {
   "cell_type": "code",
   "execution_count": 218,
   "id": "21aa6121",
   "metadata": {},
   "outputs": [
    {
     "name": "stdout",
     "output_type": "stream",
     "text": [
      "['a', 'n', 'x', 'i', 'e', 't', 'y']\n"
     ]
    }
   ],
   "source": [
    "x = \"anxiety\"\n",
    "my_list= []\n",
    "for i in x:\n",
    "    my_list.append(i)\n",
    "print(my_list)"
   ]
  },
  {
   "cell_type": "code",
   "execution_count": 2,
   "id": "603e5400",
   "metadata": {},
   "outputs": [
    {
     "name": "stdout",
     "output_type": "stream",
     "text": [
      "['a', 'n', 'x', 'i', 'e', 't', 'y']\n"
     ]
    }
   ],
   "source": [
    "x = \"anxiety\"\n",
    "my_list =[i for i in x]\n",
    "print(my_list)\n"
   ]
  },
  {
   "cell_type": "code",
   "execution_count": 7,
   "id": "a61200e6",
   "metadata": {},
   "outputs": [
    {
     "name": "stdout",
     "output_type": "stream",
     "text": [
      "[1, 2, 3]\n",
      "[1, 2, 3]\n"
     ]
    },
    {
     "data": {
      "text/plain": [
       "list"
      ]
     },
     "execution_count": 7,
     "metadata": {},
     "output_type": "execute_result"
    }
   ],
   "source": [
    "myset = {3,2,1}\n",
    "print(list(myset))\n",
    "makelist = lambda i :list(i) \n",
    "mylist = makelist(myset)\n",
    "print(mylist)\n",
    "type(mylist)"
   ]
  },
  {
   "cell_type": "code",
   "execution_count": 12,
   "id": "bfc7ff17",
   "metadata": {},
   "outputs": [
    {
     "name": "stdout",
     "output_type": "stream",
     "text": [
      "[9, 3, 4, 5]\n"
     ]
    }
   ],
   "source": [
    "myset = {9,5,3,4}\n",
    "makelist = lambda i: list(i)\n",
    "mylist = makelist(myset)\n",
    "print(mylist)"
   ]
  },
  {
   "cell_type": "code",
   "execution_count": 19,
   "id": "ba1060bc",
   "metadata": {},
   "outputs": [
    {
     "name": "stdout",
     "output_type": "stream",
     "text": [
      "0\n",
      "6\n"
     ]
    }
   ],
   "source": [
    "def x(y):\n",
    "    for i in range(y):\n",
    "        if i%2 ==0:\n",
    "            if i%3==0:\n",
    "                print(i)\n",
    "x(8)\n",
    "\n",
    "\n"
   ]
  },
  {
   "cell_type": "code",
   "execution_count": 25,
   "id": "e5ef7e61",
   "metadata": {},
   "outputs": [
    {
     "name": "stdout",
     "output_type": "stream",
     "text": [
      "[0, 6]\n"
     ]
    }
   ],
   "source": [
    "y = 8\n",
    "ans = [i  for i in range(y) if i%2 == 0 if i%3==0]\n",
    "print(ans)"
   ]
  },
  {
   "cell_type": "code",
   "execution_count": 30,
   "id": "42cd2f32",
   "metadata": {},
   "outputs": [
    {
     "name": "stdout",
     "output_type": "stream",
     "text": [
      "0 even\n",
      "1 false\n",
      "2 even\n",
      "3 false\n",
      "4 even\n",
      "5 false\n",
      "6 even\n",
      "7 false\n"
     ]
    }
   ],
   "source": [
    "y = 8\n",
    "for i in range(y):\n",
    "    if  i % 2 == 0:\n",
    "        print(i,\"even\")\n",
    "    else:\n",
    "        print (i,\"false\")\n",
    "\n",
    "\n",
    "    "
   ]
  },
  {
   "cell_type": "code",
   "execution_count": 8,
   "id": "adc12377",
   "metadata": {},
   "outputs": [
    {
     "name": "stdout",
     "output_type": "stream",
     "text": [
      "[{0: 'even'}, {1: 'false'}, {2: 'even'}, {3: 'false'}, {4: 'even'}, {5: 'false'}, {6: 'even'}, {7: 'false'}]\n"
     ]
    }
   ],
   "source": [
    "y = 8\n",
    "ans = [(i,\"even\") if i%2 ==0 else (i,\"false\") for i in range(y)]\n",
    "ans = [{i :\"even\"} if i%2 ==0 else {i:\"false\"} for i in range(y)]\n",
    "\n",
    "print(ans)"
   ]
  },
  {
   "cell_type": "code",
   "execution_count": 2,
   "id": "fc0fdd91",
   "metadata": {},
   "outputs": [
    {
     "name": "stdout",
     "output_type": "stream",
     "text": [
      "2 * 1 = 2\n",
      "2 * 2 = 4\n",
      "2 * 3 = 6\n",
      "2 * 4 = 8\n",
      "2 * 5 = 10\n",
      "2 * 6 = 12\n",
      "2 * 7 = 14\n",
      "2 * 8 = 16\n",
      "2 * 9 = 18\n",
      "2 * 10 = 20\n"
     ]
    }
   ],
   "source": [
    "for i in range(2,3):\n",
    "    for j in range(1,11):\n",
    "        print(i ,\"*\",j ,\"=\", i*j)"
   ]
  },
  {
   "cell_type": "code",
   "execution_count": 3,
   "id": "09283af2",
   "metadata": {},
   "outputs": [
    {
     "name": "stdout",
     "output_type": "stream",
     "text": [
      "[2, 4, 6, 8, 10, 12, 14, 16, 18, 20]\n"
     ]
    }
   ],
   "source": [
    "\n",
    "ans = [i*j for i in range(2,3) for j in range(1,11)]\n",
    "print(ans)"
   ]
  },
  {
   "cell_type": "code",
   "execution_count": 5,
   "id": "8a9217a2",
   "metadata": {},
   "outputs": [
    {
     "name": "stdout",
     "output_type": "stream",
     "text": [
      "[1, 4, 9, 16]\n"
     ]
    }
   ],
   "source": [
    "dict_1 = [1,2,3,4]\n",
    "result =[ i* i for i in dict_1]\n",
    "print(result)"
   ]
  },
  {
   "cell_type": "code",
   "execution_count": 26,
   "id": "cb229e45",
   "metadata": {},
   "outputs": [
    {
     "name": "stdout",
     "output_type": "stream",
     "text": [
      "{'a': 1, 'b': 4, 'c': 9}\n"
     ]
    }
   ],
   "source": [
    "dict_1 ={'a':1,'b':2,'c':3}\n",
    "result = {key: value * value for key,value in dict_1.items()}\n",
    "print(result)\n"
   ]
  },
  {
   "cell_type": "code",
   "execution_count": 29,
   "id": "a281146e",
   "metadata": {},
   "outputs": [
    {
     "name": "stdout",
     "output_type": "stream",
     "text": [
      "{'amazon': 6, 'flipkart': 8, 'facebook': 8, 'google': 6}\n"
     ]
    }
   ],
   "source": [
    "words = [\"amazon\",\"flipkart\",\"facebook\",\"google\"]\n",
    "length = { w :len(w) for w in words}\n",
    "print(length)"
   ]
  },
  {
   "cell_type": "code",
   "execution_count": 10,
   "id": "66312126",
   "metadata": {},
   "outputs": [
    {
     "name": "stdout",
     "output_type": "stream",
     "text": [
      "['GKB', 'RSM', 'SELVAM', 'JOTHI']\n"
     ]
    }
   ],
   "source": [
    "name =['gkb','rsm','selvam','jothi']\n",
    "\n",
    "def upper(name):\n",
    "    return name.upper()\n",
    "\n",
    "result = list(map(upper,name))\n",
    "print(result)\n"
   ]
  },
  {
   "cell_type": "code",
   "execution_count": 42,
   "id": "f30c7017",
   "metadata": {},
   "outputs": [
    {
     "name": "stdout",
     "output_type": "stream",
     "text": [
      "[2, 4, 6, 8, 10]\n"
     ]
    }
   ],
   "source": [
    "numbers =[1,2,3,4,5,6,7,8,9,10]\n",
    "\n",
    "def even(n):\n",
    "    if n % 2==0:\n",
    "        return True\n",
    "\n",
    "result = list(filter(even,numbers))\n",
    "print(result)"
   ]
  },
  {
   "cell_type": "code",
   "execution_count": 11,
   "id": "5f2f67f5",
   "metadata": {},
   "outputs": [
    {
     "name": "stdout",
     "output_type": "stream",
     "text": [
      "[1, 2, 3, True, False]\n"
     ]
    }
   ],
   "source": [
    "garbage = [1,2,'A',3,'B',True, False]\n",
    "\n",
    "def num(n):\n",
    "    return isinstance(n,int) \n",
    "\n",
    "result = list(filter(num,garbage))\n",
    "print(result)"
   ]
  }
 ],
 "metadata": {
  "kernelspec": {
   "display_name": "Python 3 (ipykernel)",
   "language": "python",
   "name": "python3"
  },
  "language_info": {
   "codemirror_mode": {
    "name": "ipython",
    "version": 3
   },
   "file_extension": ".py",
   "mimetype": "text/x-python",
   "name": "python",
   "nbconvert_exporter": "python",
   "pygments_lexer": "ipython3",
   "version": "3.11.3"
  }
 },
 "nbformat": 4,
 "nbformat_minor": 5
}
