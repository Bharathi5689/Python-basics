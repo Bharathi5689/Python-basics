{
 "cells": [
  {
   "cell_type": "code",
   "execution_count": 7,
   "id": "02e2ec39",
   "metadata": {},
   "outputs": [
    {
     "name": "stdout",
     "output_type": "stream",
     "text": [
      "1\n",
      "2\n",
      "3\n",
      "4\n",
      "5\n",
      "6\n",
      "7\n",
      "8\n",
      "9\n",
      "10\n"
     ]
    }
   ],
   "source": [
    "i=0\n",
    "while i <10:\n",
    "    i=i+1\n",
    "    print(i) \n"
   ]
  },
  {
   "cell_type": "code",
   "execution_count": 8,
   "id": "a4a23dea",
   "metadata": {},
   "outputs": [
    {
     "name": "stdout",
     "output_type": "stream",
     "text": [
      "2 * 1 = 2\n",
      "2 * 2 = 4\n",
      "2 * 3 = 6\n",
      "2 * 4 = 8\n",
      "2 * 5 = 10\n",
      "2 * 6 = 12\n",
      "2 * 7 = 14\n",
      "2 * 8 = 16\n",
      "2 * 9 = 18\n",
      "2 * 10 = 20\n"
     ]
    }
   ],
   "source": [
    "i=1\n",
    "n=2\n",
    "while i<=10:\n",
    "    print(n,\"*\",i,\"=\",n*i)\n",
    "    i=i+1"
   ]
  },
  {
   "cell_type": "code",
   "execution_count": 9,
   "id": "0a05a398",
   "metadata": {},
   "outputs": [
    {
     "name": "stdout",
     "output_type": "stream",
     "text": [
      "75\n",
      "150\n",
      "145\n"
     ]
    }
   ],
   "source": [
    "numbers = [12, 75, 150, 180, 145, 525, 50]\n",
    "for item in numbers:\n",
    "    if item > 500:\n",
    "        break\n",
    "    elif item > 150:\n",
    "        continue\n",
    "    elif item % 5== 0:\n",
    "        print(item)\n"
   ]
  },
  {
   "cell_type": "code",
   "execution_count": 18,
   "id": "9d7fbb02",
   "metadata": {},
   "outputs": [
    {
     "name": "stdout",
     "output_type": "stream",
     "text": [
      "The square of 1 is 1\n",
      "The square of 2 is 4\n",
      "The square of 3 is 9\n",
      "The square of 4 is 16\n",
      "The square of 5 is 25\n"
     ]
    },
    {
     "data": {
      "text/plain": [
       "25"
      ]
     },
     "execution_count": 18,
     "metadata": {},
     "output_type": "execute_result"
    }
   ],
   "source": [
    "def square(number):\n",
    "    return number ** 2\n",
    "for i in range(1, 6):\n",
    "        result = square(i)\n",
    "        print(f\"The square of {i} is {result}\")\n",
    "square(5)\n"
   ]
  },
  {
   "cell_type": "code",
   "execution_count": 11,
   "id": "e2383d72",
   "metadata": {},
   "outputs": [
    {
     "name": "stdout",
     "output_type": "stream",
     "text": [
      "the cube of 1 is 1\n",
      "the cube of 2 is 8\n",
      "the cube of 3 is 27\n",
      "the cube of 4 is 64\n",
      "the cube of 5 is 125\n"
     ]
    }
   ],
   "source": [
    "def cube(number):\n",
    "    return number**3\n",
    "for i in range(1,6):\n",
    "    result= cube(i)\n",
    "    print(f\"the cube of {i} is {result}\")\n",
    "\n"
   ]
  },
  {
   "cell_type": "code",
   "execution_count": 12,
   "id": "98338533",
   "metadata": {},
   "outputs": [
    {
     "name": "stdout",
     "output_type": "stream",
     "text": [
      "1\n",
      "2\n",
      "3\n",
      "4\n",
      "5\n",
      "6\n",
      "7\n",
      "8\n",
      "9\n",
      "10\n"
     ]
    }
   ],
   "source": [
    "n=10\n",
    "for i in range(0,n):\n",
    "    i=i+1\n",
    "    print(i)"
   ]
  },
  {
   "cell_type": "code",
   "execution_count": 13,
   "id": "166c277a",
   "metadata": {},
   "outputs": [
    {
     "name": "stdout",
     "output_type": "stream",
     "text": [
      "2\n",
      "4\n",
      "6\n",
      "8\n",
      "10\n",
      "12\n",
      "14\n",
      "16\n",
      "18\n",
      "20\n"
     ]
    }
   ],
   "source": [
    "def even(number):\n",
    "    return number\n",
    "for i in range(0,20):\n",
    "    i=i+1\n",
    "    if i % 2==0:\n",
    "        print(i)\n"
   ]
  },
  {
   "cell_type": "code",
   "execution_count": 14,
   "id": "be2b04f7",
   "metadata": {},
   "outputs": [
    {
     "name": "stdout",
     "output_type": "stream",
     "text": [
      "1 * 1 = 1\n",
      "2 * 1 = 2\n",
      "3 * 1 = 3\n",
      "4 * 1 = 4\n",
      "5 * 1 = 5\n"
     ]
    }
   ],
   "source": [
    "def multiplication_table(n, m):\n",
    "    for i in range(1, n + 1):\n",
    "        for j in range(1, m + 1):\n",
    "            result = i * j\n",
    "            print(f\"{i} * {j} = {result}\")\n",
    "\n",
    "\n",
    "multiplication_table(5, 1)\n"
   ]
  },
  {
   "cell_type": "code",
   "execution_count": 2,
   "id": "33d50481",
   "metadata": {},
   "outputs": [
    {
     "name": "stdout",
     "output_type": "stream",
     "text": [
      "a\n",
      "ab\n",
      "abc\n",
      "abcd\n"
     ]
    }
   ],
   "source": [
    "def word(string):\n",
    "    rev_str=\"\"\n",
    "    for i in string:\n",
    "        rev_str=rev_str+i\n",
    "        print(rev_str)\n",
    "word(\"abcd\")"
   ]
  },
  {
   "cell_type": "code",
   "execution_count": 2,
   "id": "080a3875",
   "metadata": {},
   "outputs": [
    {
     "name": "stdout",
     "output_type": "stream",
     "text": [
      "January has 31 days\n",
      "February has 28 days\n",
      "March has 31 days\n",
      "April has 30 days\n",
      "May has 31 days\n"
     ]
    }
   ],
   "source": [
    "\n",
    "def display_month_data(data):\n",
    "    for month, days in data.items():\n",
    "        print(f\"{month} has {days} days\")\n",
    "\n",
    "month_data = {'January': 31, 'February': 28, 'March': 31, 'April': 30, 'May': 31}\n",
    "\n",
    "display_month_data(month_data)\n",
    "\n",
    "\n"
   ]
  },
  {
   "cell_type": "code",
   "execution_count": 27,
   "id": "9dac38cb",
   "metadata": {},
   "outputs": [
    {
     "name": "stdout",
     "output_type": "stream",
     "text": [
      "the sum is -9\n"
     ]
    }
   ],
   "source": [
    "def sum_of_integer(num_1, num_2):\n",
    "    sum = num_1 + num_2\n",
    "    return sum\n",
    "    \n",
    "y = sum_of_integer(-4,-5)\n",
    "print(f\"the sum is {y}\")\n",
    "   \n",
    "    "
   ]
  }
 ],
 "metadata": {
  "kernelspec": {
   "display_name": "Python 3 (ipykernel)",
   "language": "python",
   "name": "python3"
  },
  "language_info": {
   "codemirror_mode": {
    "name": "ipython",
    "version": 3
   },
   "file_extension": ".py",
   "mimetype": "text/x-python",
   "name": "python",
   "nbconvert_exporter": "python",
   "pygments_lexer": "ipython3",
   "version": "3.11.3"
  }
 },
 "nbformat": 4,
 "nbformat_minor": 5
}
