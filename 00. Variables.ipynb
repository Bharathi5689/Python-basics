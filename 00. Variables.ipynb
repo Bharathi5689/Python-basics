{
 "cells": [
  {
   "cell_type": "code",
   "execution_count": 8,
   "id": "b0e9774a",
   "metadata": {},
   "outputs": [
    {
     "name": "stdout",
     "output_type": "stream",
     "text": [
      "Hello\n"
     ]
    }
   ],
   "source": [
    "print(\"Hello\")"
   ]
  },
  {
   "cell_type": "code",
   "execution_count": 11,
   "id": "a1b29c19",
   "metadata": {},
   "outputs": [
    {
     "data": {
      "text/plain": [
       "'RSM'"
      ]
     },
     "execution_count": 11,
     "metadata": {},
     "output_type": "execute_result"
    }
   ],
   "source": [
    "var1=\"RSM\"\n",
    "var1"
   ]
  },
  {
   "cell_type": "code",
   "execution_count": 13,
   "id": "f9c2a202",
   "metadata": {},
   "outputs": [
    {
     "data": {
      "text/plain": [
       "[10, 20, 30, 40]"
      ]
     },
     "execution_count": 13,
     "metadata": {},
     "output_type": "execute_result"
    }
   ],
   "source": [
    "var1=[10,20,30,40]\n",
    "var1"
   ]
  },
  {
   "cell_type": "code",
   "execution_count": 15,
   "id": "3dac5cec",
   "metadata": {},
   "outputs": [
    {
     "data": {
      "text/plain": [
       "(10, 20, 30, 40, 20)"
      ]
     },
     "execution_count": 15,
     "metadata": {},
     "output_type": "execute_result"
    }
   ],
   "source": [
    "var2=(10,20,30,40,20)\n",
    "var2"
   ]
  },
  {
   "cell_type": "code",
   "execution_count": 20,
   "id": "d5c510d0",
   "metadata": {},
   "outputs": [
    {
     "data": {
      "text/plain": [
       "tuple"
      ]
     },
     "execution_count": 20,
     "metadata": {},
     "output_type": "execute_result"
    }
   ],
   "source": [
    "type(var2)"
   ]
  },
  {
   "cell_type": "code",
   "execution_count": 22,
   "id": "1c0c0f3c",
   "metadata": {},
   "outputs": [
    {
     "data": {
      "text/plain": [
       "list"
      ]
     },
     "execution_count": 22,
     "metadata": {},
     "output_type": "execute_result"
    }
   ],
   "source": [
    "type(var1)"
   ]
  },
  {
   "cell_type": "code",
   "execution_count": 24,
   "id": "7af8b373",
   "metadata": {},
   "outputs": [
    {
     "data": {
      "text/plain": [
       "complex"
      ]
     },
     "execution_count": 24,
     "metadata": {},
     "output_type": "execute_result"
    }
   ],
   "source": [
    "x=3+5j\n",
    "type(x)"
   ]
  },
  {
   "cell_type": "code",
   "execution_count": 25,
   "id": "425cce98",
   "metadata": {},
   "outputs": [
    {
     "data": {
      "text/plain": [
       "int"
      ]
     },
     "execution_count": 25,
     "metadata": {},
     "output_type": "execute_result"
    }
   ],
   "source": [
    "y=56\n",
    "type(y)"
   ]
  },
  {
   "cell_type": "code",
   "execution_count": 27,
   "id": "5c122018",
   "metadata": {},
   "outputs": [
    {
     "data": {
      "text/plain": [
       "float"
      ]
     },
     "execution_count": 27,
     "metadata": {},
     "output_type": "execute_result"
    }
   ],
   "source": [
    "y=58.45\n",
    "type(y)"
   ]
  },
  {
   "cell_type": "code",
   "execution_count": 31,
   "id": "3b83dae4",
   "metadata": {},
   "outputs": [
    {
     "data": {
      "text/plain": [
       "[10, 20, 50, 40]"
      ]
     },
     "execution_count": 31,
     "metadata": {},
     "output_type": "execute_result"
    }
   ],
   "source": [
    "var2=[10,20,30,40]\n",
    "var2[2]=50\n",
    "var2"
   ]
  },
  {
   "cell_type": "code",
   "execution_count": 40,
   "id": "8bd505c9",
   "metadata": {},
   "outputs": [
    {
     "data": {
      "text/plain": [
       "27"
      ]
     },
     "execution_count": 40,
     "metadata": {},
     "output_type": "execute_result"
    }
   ],
   "source": [
    "s2=\"this is an example to find apple\"\n",
    "s2.find(\"apple\")"
   ]
  },
  {
   "cell_type": "markdown",
   "id": "0241649d",
   "metadata": {},
   "source": [
    "fruit='I like apple, banana, guava, grapes'\n",
    "fruit.split(\",\")"
   ]
  },
  {
   "cell_type": "code",
   "execution_count": 46,
   "id": "7260ec6a",
   "metadata": {},
   "outputs": [
    {
     "data": {
      "text/plain": [
       "'SAM'"
      ]
     },
     "execution_count": 46,
     "metadata": {},
     "output_type": "execute_result"
    }
   ],
   "source": [
    "my_string=\"sam\"\n",
    "my_string.upper()"
   ]
  },
  {
   "cell_type": "code",
   "execution_count": 47,
   "id": "d831b45c",
   "metadata": {},
   "outputs": [
    {
     "data": {
      "text/plain": [
       "'rsm'"
      ]
     },
     "execution_count": 47,
     "metadata": {},
     "output_type": "execute_result"
    }
   ],
   "source": [
    "my_string=\"RSM\"\n",
    "my_string.lower()"
   ]
  },
  {
   "cell_type": "code",
   "execution_count": 49,
   "id": "1da5884b",
   "metadata": {},
   "outputs": [
    {
     "data": {
      "text/plain": [
       "'GKB'"
      ]
     },
     "execution_count": 49,
     "metadata": {},
     "output_type": "execute_result"
    }
   ],
   "source": [
    "my_string=\"RSM\"\n",
    "my_string.replace(\"RSM\",\"GKB\")"
   ]
  },
  {
   "cell_type": "code",
   "execution_count": 55,
   "id": "51d11141",
   "metadata": {},
   "outputs": [
    {
     "data": {
      "text/plain": [
       "('apple', 'orange', 'apple', 'mango')"
      ]
     },
     "execution_count": 55,
     "metadata": {},
     "output_type": "execute_result"
    }
   ],
   "source": [
    "tup1=(\"apple\",\"orange\",\"apple\",\"mango\")\n",
    "tup1"
   ]
  },
  {
   "cell_type": "code",
   "execution_count": 56,
   "id": "8773bcc0",
   "metadata": {},
   "outputs": [
    {
     "ename": "AttributeError",
     "evalue": "'tuple' object has no attribute 'append'",
     "output_type": "error",
     "traceback": [
      "\u001b[0;31m---------------------------------------------------------------------------\u001b[0m",
      "\u001b[0;31mAttributeError\u001b[0m                            Traceback (most recent call last)",
      "Cell \u001b[0;32mIn[56], line 1\u001b[0m\n\u001b[0;32m----> 1\u001b[0m tup1\u001b[38;5;241m.\u001b[39mappend(\u001b[38;5;124m\"\u001b[39m\u001b[38;5;124mbanana\u001b[39m\u001b[38;5;124m\"\u001b[39m)\n\u001b[1;32m      2\u001b[0m tup1\n",
      "\u001b[0;31mAttributeError\u001b[0m: 'tuple' object has no attribute 'append'"
     ]
    }
   ],
   "source": [
    "tup1.append(\"banana\")\n"
   ]
  },
  {
   "cell_type": "code",
   "execution_count": 13,
   "id": "9963e2e3",
   "metadata": {},
   "outputs": [
    {
     "name": "stdout",
     "output_type": "stream",
     "text": [
      "['kiwi', 'grapes', 'apple', 'mango', 'banana']\n"
     ]
    }
   ],
   "source": [
    "list1=[\"apple\",\"orange\",\"apple\",\"mango\"]\n",
    "list1.append(\"banana\")\n",
    "if \"orange\" in list1:\n",
    "    index =list1.index(\"orange\")\n",
    "    list1[index]=\"grapes\"\n",
    "#list1\n",
    "if \"apple\" in list1:\n",
    "    index=list1.index(\"apple\")\n",
    "    list1[index]=\"kiwi\"\n",
    "print(list1)"
   ]
  },
  {
   "cell_type": "code",
   "execution_count": 25,
   "id": "cb4bb1de",
   "metadata": {},
   "outputs": [
    {
     "name": "stdout",
     "output_type": "stream",
     "text": [
      "apple\n",
      "orange\n",
      "apple\n",
      "mango\n",
      "['custard apple', 'orange', 'custard apple', 'mango']\n"
     ]
    }
   ],
   "source": [
    "list1=[\"apple\",\"orange\",\"apple\",\"mango\"]\n",
    "c=0\n",
    "for i in list1:\n",
    "    print(i)\n",
    "    if \"apple\"== i:\n",
    "        list1[c]=\"custard apple\"\n",
    "    c=c+1\n",
    "print(list1)"
   ]
  },
  {
   "cell_type": "code",
   "execution_count": 30,
   "id": "c447e07c",
   "metadata": {},
   "outputs": [
    {
     "name": "stdout",
     "output_type": "stream",
     "text": [
      "rice\n",
      "sambar\n",
      "curd\n",
      "rice\n",
      "['vege', 'sambar', 'curd', 'vege']\n"
     ]
    }
   ],
   "source": [
    "list2=[\"rice\",\"sambar\",\"curd\",\"rice\"]\n",
    "c=0\n",
    "for i in list2:\n",
    "    print(i)\n",
    "    if \"rice\" == i:\n",
    "        list2[c]=\"vege\"\n",
    "    c=c+1\n",
    "print(list2)\n",
    "        \n",
    "        \n"
   ]
  },
  {
   "cell_type": "code",
   "execution_count": 74,
   "id": "96ae8a81",
   "metadata": {},
   "outputs": [
    {
     "data": {
      "text/plain": [
       "'apple'"
      ]
     },
     "execution_count": 74,
     "metadata": {},
     "output_type": "execute_result"
    }
   ],
   "source": [
    "list2[0]"
   ]
  },
  {
   "cell_type": "code",
   "execution_count": 77,
   "id": "cfddf25f",
   "metadata": {},
   "outputs": [
    {
     "data": {
      "text/plain": [
       "['apple', 'orange']"
      ]
     },
     "execution_count": 77,
     "metadata": {},
     "output_type": "execute_result"
    }
   ],
   "source": [
    "list2[0:2]"
   ]
  },
  {
   "cell_type": "code",
   "execution_count": 82,
   "id": "651067b8",
   "metadata": {},
   "outputs": [
    {
     "data": {
      "text/plain": [
       "('apple',)"
      ]
     },
     "execution_count": 82,
     "metadata": {},
     "output_type": "execute_result"
    }
   ],
   "source": [
    "tup2=(\"apple\",\"banana\",\"orange\")\n",
    "tup2[0:1]"
   ]
  },
  {
   "cell_type": "code",
   "execution_count": 84,
   "id": "4250c5e8",
   "metadata": {},
   "outputs": [
    {
     "data": {
      "text/plain": [
       "['apple',\n",
       " 'orange',\n",
       " 'apple',\n",
       " 'mango',\n",
       " 'apple',\n",
       " 'orange',\n",
       " 'apple',\n",
       " 'mango',\n",
       " 'apple',\n",
       " 'orange',\n",
       " 'apple',\n",
       " 'mango']"
      ]
     },
     "execution_count": 84,
     "metadata": {},
     "output_type": "execute_result"
    }
   ],
   "source": [
    "list2=[\"apple\",\"orange\",\"apple\",\"mango\"]\n",
    "list2*3\n"
   ]
  },
  {
   "cell_type": "code",
   "execution_count": 115,
   "id": "a9fce8c0",
   "metadata": {},
   "outputs": [
    {
     "name": "stdout",
     "output_type": "stream",
     "text": [
      "2 is present\n"
     ]
    }
   ],
   "source": [
    "tup3=(1,2,3,4)\n",
    "if 2 in tup3:\n",
    "    print(\"2 is present\")\n",
    "else:\n",
    "    print(\"2 is not present\")"
   ]
  },
  {
   "cell_type": "code",
   "execution_count": 120,
   "id": "ada9f5a6",
   "metadata": {},
   "outputs": [
    {
     "name": "stdout",
     "output_type": "stream",
     "text": [
      "apple\n",
      "banana\n",
      "orange\n"
     ]
    }
   ],
   "source": [
    "l1=[\"apple\",\"banana\",\"orange\"]\n",
    "for i in l1:\n",
    "    print(i)"
   ]
  },
  {
   "cell_type": "code",
   "execution_count": 122,
   "id": "1f5c9a75",
   "metadata": {},
   "outputs": [
    {
     "name": "stdout",
     "output_type": "stream",
     "text": [
      "apple grapes\n",
      "apple custard apple\n",
      "banana grapes\n",
      "banana custard apple\n"
     ]
    }
   ],
   "source": [
    "l1=[\"apple\",\"banana\"]\n",
    "l2=[\"grapes\",\"custard apple\"]\n",
    "for i in l1:\n",
    "    for j in l2:\n",
    "        print(i,j)"
   ]
  },
  {
   "cell_type": "code",
   "execution_count": 129,
   "id": "20fd6e89",
   "metadata": {},
   "outputs": [
    {
     "name": "stdout",
     "output_type": "stream",
     "text": [
      "1\n",
      "2\n",
      "3\n",
      "4\n",
      "5\n",
      "6\n",
      "7\n",
      "8\n",
      "9\n",
      "10\n"
     ]
    }
   ],
   "source": [
    "i=1\n",
    "while(i<=10):\n",
    "    print(i)\n",
    "    i=i+1\n",
    "   "
   ]
  },
  {
   "cell_type": "code",
   "execution_count": 132,
   "id": "8382072a",
   "metadata": {},
   "outputs": [
    {
     "name": "stdout",
     "output_type": "stream",
     "text": [
      "5 / 1 = 5.0\n",
      "5 / 2 = 2.5\n",
      "5 / 3 = 1.6666666666666667\n",
      "5 / 4 = 1.25\n",
      "5 / 5 = 1.0\n",
      "5 / 6 = 0.8333333333333334\n",
      "5 / 7 = 0.7142857142857143\n",
      "5 / 8 = 0.625\n",
      "5 / 9 = 0.5555555555555556\n",
      "5 / 10 = 0.5\n"
     ]
    }
   ],
   "source": [
    "i=1\n",
    "n=5\n",
    "while i<=10:\n",
    "    print(n,'/',i,\"=\",n/i)\n",
    "    i=i+1"
   ]
  },
  {
   "cell_type": "code",
   "execution_count": 3,
   "id": "08b0f09d",
   "metadata": {},
   "outputs": [
    {
     "name": "stdout",
     "output_type": "stream",
     "text": [
      "35\n"
     ]
    }
   ],
   "source": [
    "l5=[1,2,7,4,5,6]\n",
    "if l5[2]==3:\n",
    "    l5[2]=l5[2]*10\n",
    "else:\n",
    "    l5[2]=l5[2]*5\n",
    "print(l5[2])"
   ]
  }
 ],
 "metadata": {
  "kernelspec": {
   "display_name": "Python 3 (ipykernel)",
   "language": "python",
   "name": "python3"
  },
  "language_info": {
   "codemirror_mode": {
    "name": "ipython",
    "version": 3
   },
   "file_extension": ".py",
   "mimetype": "text/x-python",
   "name": "python",
   "nbconvert_exporter": "python",
   "pygments_lexer": "ipython3",
   "version": "3.11.3"
  }
 },
 "nbformat": 4,
 "nbformat_minor": 5
}
