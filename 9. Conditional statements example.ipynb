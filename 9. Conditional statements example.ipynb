{
 "cells": [
  {
   "cell_type": "code",
   "execution_count": 122,
   "id": "64844b40",
   "metadata": {},
   "outputs": [
    {
     "name": "stdout",
     "output_type": "stream",
     "text": [
      "the temperature of 122.11 in Kelvin is 395.26 and in  fahrenheit is 251.8\n",
      "\n",
      "the sum is 1\n",
      "\n",
      "the even smallest even possible of 5 is 10 \n",
      "\n",
      "the number of good pairs is 2\n",
      "\n"
     ]
    }
   ],
   "source": [
    "class Solution():\n",
    "    def __init__(self):\n",
    "        pass\n",
    "    \n",
    "    def temp(self,celsius):\n",
    "        if celsius != 0:\n",
    "            kelvin = celsius + 273.15\n",
    "            fahrenheit = celsius *1.80 + 32.00\n",
    "            ans = [kelvin,fahrenheit]\n",
    "            return ans\n",
    "        else:\n",
    "            return []\n",
    "        \n",
    "    def sum_of_integer(self,num_1, num_2):\n",
    "        sum = num_1 + num_2\n",
    "        return sum\n",
    "\n",
    "    def smallest_possible(self, n):\n",
    "        if n % 2 == 0:\n",
    "            return n\n",
    "        return n*2     \n",
    "    \n",
    "    def good_pairs(self, arr):\n",
    "        count=0\n",
    "        for i in range(len(arr)):\n",
    "            for j in range(i + 1, len(arr)):\n",
    "                if arr[i] == arr[j] :\n",
    "                    count = count + 1\n",
    "        return count\n",
    "    \n",
    "\n",
    "solution = Solution()\n",
    "\n",
    "y = 122.11\n",
    "x = solution.temp(y)\n",
    "kelvin_value = round(x[0], 2)\n",
    "fahrenheit_value = round(x[1], 2) \n",
    "print(f\"the temperature of {y} in Kelvin is {kelvin_value} and in  fahrenheit is {fahrenheit_value}\")\n",
    "print(\"\")\n",
    "\n",
    "y = solution.sum_of_integer(-4,5)\n",
    "print(f\"the sum is {y}\")\n",
    "print(\"\")\n",
    "   \n",
    "y = 5\n",
    "z = solution.smallest_possible(y)\n",
    "print(f\"the even smallest even possible of {y} is {z} \")\n",
    "print(\"\")\n",
    "\n",
    "z = solution.good_pairs([1,2,5,1,2,3])\n",
    "print(f\"the number of good pairs is {z}\")\n",
    "print(\"\")\n",
    "\n",
    "\n",
    "      \n",
    "        "
   ]
  },
  {
   "cell_type": "code",
   "execution_count": 88,
   "id": "4a8abb81",
   "metadata": {},
   "outputs": [
    {
     "name": "stdout",
     "output_type": "stream",
     "text": [
      "the even smallest possible of 9 is 18 \n"
     ]
    }
   ],
   "source": [
    "def smallest_possible(n):\n",
    "    if n%2 == 0:\n",
    "        return n\n",
    "    return n*2        \n",
    "    \n",
    "y = 9\n",
    "z = smallest_possible(y)\n",
    "print(f\"the even smallest possible of {y} is {z} \")   "
   ]
  },
  {
   "cell_type": "code",
   "execution_count": 123,
   "id": "46b004d2",
   "metadata": {},
   "outputs": [
    {
     "name": "stdout",
     "output_type": "stream",
     "text": [
      "3\n"
     ]
    }
   ],
   "source": [
    "def good_pairs(arr):\n",
    "    count=0\n",
    "    for i in range(len(arr)):\n",
    "        for j in range(i + 1, len(arr)):\n",
    "            if arr[i] == arr[j] :\n",
    "                count = count + 1\n",
    "    return count\n",
    "z =good_pairs([1,2,3,1,2,3])\n",
    "print(z)"
   ]
  },
  {
   "cell_type": "code",
   "execution_count": 125,
   "id": "8b4992d1",
   "metadata": {},
   "outputs": [
    {
     "name": "stdout",
     "output_type": "stream",
     "text": [
      "the temperature of 122.11 in Kelvin is 395.26 and in  fahrenheit is 251.8\n",
      "\n"
     ]
    }
   ],
   "source": [
    " def temp(celsius):\n",
    "        if celsius != 0:\n",
    "            kelvin = celsius + 273.15\n",
    "            fahrenheit = celsius *1.80 + 32.00\n",
    "            ans = [kelvin,fahrenheit]\n",
    "            return ans\n",
    "        else:\n",
    "            return []\n",
    "y = 122.11\n",
    "x = temp(y)\n",
    "kelvin_value = round(x[0], 2)\n",
    "fahrenheit_value = round(x[1], 2) \n",
    "print(f\"the temperature of {y} in Kelvin is {kelvin_value} and in  fahrenheit is {fahrenheit_value}\")\n",
    "print(\"\")"
   ]
  },
  {
   "cell_type": "code",
   "execution_count": 128,
   "id": "5994f7ec",
   "metadata": {},
   "outputs": [
    {
     "name": "stdout",
     "output_type": "stream",
     "text": [
      "the sum is -9\n",
      "\n"
     ]
    }
   ],
   "source": [
    "def sum_of_integer(num_1, num_2):\n",
    "        sum = num_1 + num_2\n",
    "        return sum\n",
    "y = sum_of_integer(-4,-5)\n",
    "print(f\"the sum is {y}\")\n",
    "print(\"\")\n",
    "   "
   ]
  },
  {
   "cell_type": "markdown",
   "id": "d5babb1f",
   "metadata": {},
   "source": [
    "# nested loop example - medium.com"
   ]
  },
  {
   "cell_type": "code",
   "execution_count": 30,
   "id": "043763fa",
   "metadata": {},
   "outputs": [
    {
     "name": "stdout",
     "output_type": "stream",
     "text": [
      "1\n",
      "What\n",
      "When\n",
      "How\n",
      "2\n",
      "What\n",
      "When\n",
      "How\n",
      "3\n",
      "What\n",
      "When\n",
      "How\n"
     ]
    }
   ],
   "source": [
    "num = [1,2,3]\n",
    "ques = [\"What\",\"When\",\"How\"]\n",
    "for i in num:\n",
    "    print(i)\n",
    "    for j in ques:\n",
    "        print(j)"
   ]
  },
  {
   "cell_type": "code",
   "execution_count": 39,
   "id": "70995910",
   "metadata": {},
   "outputs": [
    {
     "name": "stdout",
     "output_type": "stream",
     "text": [
      "['Kavi', 100, 8]\n",
      "['Sakthi', 100, 7]\n",
      "['Magi', 100, 6]\n"
     ]
    }
   ],
   "source": [
    "list_1 = [['Kavi', 100, 8],['Sakthi', 100, 7],['Magi', 100, 6]]\n",
    "for i in list_1:\n",
    "    print(i)"
   ]
  },
  {
   "cell_type": "code",
   "execution_count": 45,
   "id": "1be962f0",
   "metadata": {},
   "outputs": [
    {
     "name": "stdout",
     "output_type": "stream",
     "text": [
      "deer\n",
      "fawn\n",
      "lion\n",
      "cub\n",
      "hen\n",
      "chick\n"
     ]
    }
   ],
   "source": [
    "list_2 = [['deer','fawn'], ['lion','cub'], ['hen','chick']]\n",
    "for i in list_2:\n",
    "    for j in i:\n",
    "        print(j)"
   ]
  },
  {
   "cell_type": "code",
   "execution_count": 56,
   "id": "5ef7aa89",
   "metadata": {},
   "outputs": [
    {
     "name": "stdout",
     "output_type": "stream",
     "text": [
      "[[10, 20], [300, 400]]\n"
     ]
    }
   ],
   "source": [
    "list = [[1,2],[3,4]]\n",
    "m = 1\n",
    "for i in range(0,2):\n",
    "    m = m * 10\n",
    "    for j in range(0,2):\n",
    "        list[i][j] =list[i][j] * m\n",
    "print(list)"
   ]
  },
  {
   "cell_type": "code",
   "execution_count": 130,
   "id": "9f559f4c",
   "metadata": {},
   "outputs": [
    {
     "name": "stdout",
     "output_type": "stream",
     "text": [
      "1\n",
      "22\n",
      "333\n",
      "4444\n"
     ]
    }
   ],
   "source": [
    "for i in range(1,5):\n",
    "    for j in range(i):\n",
    "        print(i, end = \"\")\n",
    "    print(\"\")\n",
    "    "
   ]
  },
  {
   "cell_type": "code",
   "execution_count": 68,
   "id": "7b2324f2",
   "metadata": {},
   "outputs": [
    {
     "name": "stdout",
     "output_type": "stream",
     "text": [
      "pythn lrnng fr kds"
     ]
    }
   ],
   "source": [
    "for i in 'python learning for kids':\n",
    "    if i == \"a\" or i == 'e' or i == 'i' or i== 'o' or i == 'u':\n",
    "        continue\n",
    "    print(i, end = \"\")"
   ]
  },
  {
   "cell_type": "code",
   "execution_count": 75,
   "id": "74925cb9",
   "metadata": {},
   "outputs": [
    {
     "name": "stdout",
     "output_type": "stream",
     "text": [
      " \n",
      "*  \n",
      "* *  \n",
      "* * *  \n",
      "* * * *  \n",
      "* * * * * \n",
      "* * * * \n",
      "* * * \n",
      "* * \n",
      "* \n"
     ]
    }
   ],
   "source": [
    "n = 5\n",
    "for i in range(0,n):\n",
    "    for j in range(i):\n",
    "        print(\"*\", end =\" \")\n",
    "    print(\" \")\n",
    "for i in range(n,0,-1):\n",
    "    for j in range(i):\n",
    "        print(\"*\", end =\" \")\n",
    "    print(\"\")\n",
    "\n",
    "        "
   ]
  },
  {
   "cell_type": "code",
   "execution_count": 77,
   "id": "46344323",
   "metadata": {},
   "outputs": [
    {
     "name": "stdout",
     "output_type": "stream",
     "text": [
      "\n",
      "*\n",
      "**\n",
      "***\n",
      "****\n"
     ]
    }
   ],
   "source": [
    "n = 5\n",
    "for i in range(0,n):\n",
    "    for j in range(i):\n",
    "        print(\"*\", end = \"\")\n",
    "    print(\"\")\n",
    "    "
   ]
  },
  {
   "cell_type": "code",
   "execution_count": 2,
   "id": "441e3a73",
   "metadata": {},
   "outputs": [
    {
     "name": "stdout",
     "output_type": "stream",
     "text": [
      "*\n",
      "***\n",
      "*****\n",
      "*******\n",
      "*********\n"
     ]
    }
   ],
   "source": [
    "n = 5\n",
    "x = 1 \n",
    "for i in range(0,n):\n",
    "    for j in range(0,x):\n",
    "        print(\"*\", end = \"\")\n",
    "    x = x + 2\n",
    "    print(\"\")"
   ]
  },
  {
   "cell_type": "code",
   "execution_count": 109,
   "id": "78396207",
   "metadata": {},
   "outputs": [
    {
     "name": "stdout",
     "output_type": "stream",
     "text": [
      "bharathi bharathi bharathi  \n",
      "bharathi bharathi bharathi  \n",
      "bharathi bharathi bharathi  \n"
     ]
    }
   ],
   "source": [
    "for i in range(0,3):\n",
    "    for j in range(0,3):\n",
    "        print( \"bharathi\" ,end =\" \")\n",
    "    print(\" \")"
   ]
  },
  {
   "cell_type": "code",
   "execution_count": 110,
   "id": "4e0c5c54",
   "metadata": {},
   "outputs": [
    {
     "name": "stdout",
     "output_type": "stream",
     "text": [
      "* * *  \n",
      "* * *  \n",
      "* * *  \n",
      "* * *  \n",
      "* * *  \n",
      "* * *  \n"
     ]
    }
   ],
   "source": [
    "for i in range(0,6):\n",
    "    for j in range(0,3):\n",
    "        print(\"*\", end = \" \")\n",
    "    print(\" \")"
   ]
  },
  {
   "cell_type": "code",
   "execution_count": 128,
   "id": "fd3a3486",
   "metadata": {},
   "outputs": [
    {
     "name": "stdout",
     "output_type": "stream",
     "text": [
      "ragav ragav ragav ragav ragav \n",
      "sakthi sakthi sakthi sakthi sakthi \n",
      "magi magi magi magi magi \n"
     ]
    }
   ],
   "source": [
    "names = ['ragav','sakthi', 'magi']\n",
    "for i in names:\n",
    "    count = 0\n",
    "    while count < 5:\n",
    "        print(i, end=\" \")\n",
    "        count = count + 1\n",
    "    print()\n",
    "    \n",
    "    \n"
   ]
  },
  {
   "cell_type": "code",
   "execution_count": 1,
   "id": "5fd23895",
   "metadata": {},
   "outputs": [
    {
     "name": "stdout",
     "output_type": "stream",
     "text": [
      "1 0\n",
      "2 0\n",
      "2 1\n",
      "3 0\n",
      "3 1\n",
      "3 2\n"
     ]
    }
   ],
   "source": [
    "for i in range(4):\n",
    "    for j in range(4):\n",
    "        if i == j :\n",
    "            break\n",
    "        print(i, j)"
   ]
  },
  {
   "cell_type": "code",
   "execution_count": 12,
   "id": "38cdaeb8",
   "metadata": {},
   "outputs": [
    {
     "name": "stdout",
     "output_type": "stream",
     "text": [
      "100\n",
      "100\n"
     ]
    }
   ],
   "source": [
    "s = [10,20,30,40]\n",
    "total = 0\n",
    "for i in s:\n",
    "    total = total + i\n",
    "print(total)\n",
    "x = sum(s)\n",
    "print(x)"
   ]
  },
  {
   "cell_type": "code",
   "execution_count": 1,
   "id": "166a7ecd",
   "metadata": {},
   "outputs": [
    {
     "name": "stdout",
     "output_type": "stream",
     "text": [
      "pythn lgc fr kds"
     ]
    }
   ],
   "source": [
    "s = ['a','e','i','o','u']\n",
    "for i in \"python logic for kids\":\n",
    "    if i in s:\n",
    "        continue\n",
    "    print(i, end = \"\")"
   ]
  },
  {
   "cell_type": "code",
   "execution_count": 18,
   "id": "2a05cdca",
   "metadata": {},
   "outputs": [
    {
     "name": "stdout",
     "output_type": "stream",
     "text": [
      "pyth"
     ]
    }
   ],
   "source": [
    "s = ['a','e','i','o','u']\n",
    "for i in \"python logic for kids\":\n",
    "    if i in s:\n",
    "        break\n",
    "    print(i, end = \"\")"
   ]
  },
  {
   "cell_type": "code",
   "execution_count": 20,
   "id": "91920c20",
   "metadata": {},
   "outputs": [
    {
     "data": {
      "text/plain": [
       "97"
      ]
     },
     "execution_count": 20,
     "metadata": {},
     "output_type": "execute_result"
    }
   ],
   "source": [
    "ord('a')"
   ]
  }
 ],
 "metadata": {
  "kernelspec": {
   "display_name": "Python 3 (ipykernel)",
   "language": "python",
   "name": "python3"
  },
  "language_info": {
   "codemirror_mode": {
    "name": "ipython",
    "version": 3
   },
   "file_extension": ".py",
   "mimetype": "text/x-python",
   "name": "python",
   "nbconvert_exporter": "python",
   "pygments_lexer": "ipython3",
   "version": "3.11.3"
  }
 },
 "nbformat": 4,
 "nbformat_minor": 5
}
