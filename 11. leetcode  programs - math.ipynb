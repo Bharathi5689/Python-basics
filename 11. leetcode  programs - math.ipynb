{
 "cells": [
  {
   "cell_type": "code",
   "execution_count": 1,
   "id": "52357dd9",
   "metadata": {},
   "outputs": [
    {
     "name": "stdout",
     "output_type": "stream",
     "text": [
      "6\n"
     ]
    }
   ],
   "source": [
    "def steps(num):\n",
    "    count = 0\n",
    "    while num > 0 :\n",
    "        if num % 2 == 0:\n",
    "            num = num / 2\n",
    "        else:\n",
    "            num = num -1\n",
    "        count = count + 1\n",
    "    return count\n",
    "x = steps (14)\n",
    "print(x)"
   ]
  },
  {
   "cell_type": "code",
   "execution_count": 2,
   "id": "d565c5ef",
   "metadata": {},
   "outputs": [
    {
     "name": "stdout",
     "output_type": "stream",
     "text": [
      "11\n"
     ]
    }
   ],
   "source": [
    "def result(n):\n",
    "    sum_1 = 0\n",
    "    prod = 1\n",
    "   \n",
    "    while n > 0:\n",
    "        x = n % 10\n",
    "        prod = prod * x\n",
    "        sum_1 = sum_1 + x\n",
    "        n = n//10\n",
    "    diff = prod - sum_1\n",
    "    return diff\n",
    "\n",
    "x = result(45)\n",
    "print(x)"
   ]
  },
  {
   "cell_type": "code",
   "execution_count": 3,
   "id": "31b37d2d",
   "metadata": {},
   "outputs": [
    {
     "name": "stdout",
     "output_type": "stream",
     "text": [
      " sum of multiples is:  21\n"
     ]
    }
   ],
   "source": [
    "def sum_multiples(n):\n",
    "    \n",
    "    total = 0\n",
    "    for i in range(0, n+1):\n",
    "        if i % 3 == 0 or i % 5 == 0 or i % 7 == 0:\n",
    "            total = total + i\n",
    "    return  total\n",
    "\n",
    "x = sum_multiples(7)    \n",
    "print(\" sum of multiples is: \", x)\n",
    "        "
   ]
  },
  {
   "cell_type": "code",
   "execution_count": 3,
   "id": "18b5f802",
   "metadata": {},
   "outputs": [
    {
     "name": "stdout",
     "output_type": "stream",
     "text": [
      "4\n"
     ]
    }
   ],
   "source": [
    "def digit_count(num):\n",
    "    count = 0\n",
    "    nums = num\n",
    "    \n",
    "    while num > 0:\n",
    "        digit = num % 10\n",
    "        if digit != 0 and  nums % digit ==0:\n",
    "            count = count + 1\n",
    "        num = num // 10\n",
    "    \n",
    "    return count\n",
    "\n",
    "x = digit_count(1248)\n",
    "print(x)"
   ]
  },
  {
   "cell_type": "code",
   "execution_count": 12,
   "id": "a31833ac",
   "metadata": {},
   "outputs": [
    {
     "name": "stdout",
     "output_type": "stream",
     "text": [
      "the number of steps is  6\n",
      "\n",
      "\n",
      "the values is 11\n",
      "\n",
      "\n",
      "sum of multiples is:  21\n",
      "\n",
      "\n",
      "the count is  3\n",
      "\n",
      "\n"
     ]
    }
   ],
   "source": [
    "class Leetcode():\n",
    "    \n",
    "    def __init__(self):\n",
    "        pass\n",
    "    \n",
    "    def steps(self,num):\n",
    "        count = 0\n",
    "        while num > 0 :\n",
    "            if num % 2 == 0:\n",
    "                num = num / 2\n",
    "            else:\n",
    "                num = num -1\n",
    "            count = count + 1\n",
    "        return count\n",
    "    \n",
    "    def result(self, n):\n",
    "        sum_1 = 0\n",
    "        prod = 1\n",
    "\n",
    "        while n > 0:\n",
    "            x = n % 10\n",
    "            prod = prod * x\n",
    "            sum_1 = sum_1 + x\n",
    "            n = n//10\n",
    "        diff = prod - sum_1\n",
    "        return diff\n",
    "    \n",
    "    def sum_multiples(self, n):\n",
    "    \n",
    "        total = 0\n",
    "        for i in range(0, n+1):\n",
    "            if i % 3 == 0 or i % 5 == 0 or i % 7 == 0:\n",
    "                total = total + i\n",
    "        return  total\n",
    "\n",
    "    \n",
    "    def digit_count(self, num):\n",
    "        count = 0\n",
    "        nums = num\n",
    "\n",
    "        while num > 0:\n",
    "            digit = num % 10\n",
    "            if digit != 0 and  nums % digit ==0:\n",
    "                count = count + 1\n",
    "            num = num // 10\n",
    "\n",
    "        return count\n",
    "    \n",
    "\n",
    "    \n",
    "leetcode = Leetcode()\n",
    "x = leetcode.steps(14)\n",
    "print(\"the number of steps is \", x)\n",
    "print(\"\\n\")\n",
    "\n",
    "\n",
    "x = leetcode.result(45)\n",
    "print(\"the values is\", x)\n",
    "print(\"\\n\")\n",
    "\n",
    "\n",
    "x = leetcode.sum_multiples(7)    \n",
    "print(\"sum of multiples is: \", x)\n",
    "print(\"\\n\")\n",
    "\n",
    "\n",
    "x = leetcode.digit_count(124)\n",
    "print(\"the count is \", x)\n",
    "print(\"\\n\")\n"
   ]
  },
  {
   "cell_type": "code",
   "execution_count": 25,
   "id": "e9fabe49",
   "metadata": {},
   "outputs": [
    {
     "name": "stdout",
     "output_type": "stream",
     "text": [
      "A  \n",
      "B C  \n",
      "D E F  \n",
      "G H I J  \n",
      "K L M N O  \n"
     ]
    }
   ],
   "source": [
    "val = 65\n",
    "for i in range(0, 5):\n",
    "    for j in range(0, i + 1 ):\n",
    "        ch = chr(val)\n",
    "        print(ch,end = \" \")\n",
    "        val = val + 1\n",
    "    print(\" \")"
   ]
  },
  {
   "cell_type": "code",
   "execution_count": 30,
   "id": "88fddc6b",
   "metadata": {},
   "outputs": [
    {
     "name": "stdout",
     "output_type": "stream",
     "text": [
      "A  \n",
      "B B  \n",
      "C C C  \n",
      "D D D D  \n",
      "E E E E E  \n"
     ]
    }
   ],
   "source": [
    "val = 65\n",
    "for i in range(0, 5):\n",
    "    for j in range(0, i + 1):\n",
    "        ch = chr (val)\n",
    "        print(ch, end =\" \")\n",
    "    val = val + 1\n",
    "    print(\" \")\n",
    "            "
   ]
  }
 ],
 "metadata": {
  "kernelspec": {
   "display_name": "Python 3 (ipykernel)",
   "language": "python",
   "name": "python3"
  },
  "language_info": {
   "codemirror_mode": {
    "name": "ipython",
    "version": 3
   },
   "file_extension": ".py",
   "mimetype": "text/x-python",
   "name": "python",
   "nbconvert_exporter": "python",
   "pygments_lexer": "ipython3",
   "version": "3.11.3"
  }
 },
 "nbformat": 4,
 "nbformat_minor": 5
}
