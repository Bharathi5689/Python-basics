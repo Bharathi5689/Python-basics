{
 "cells": [
  {
   "cell_type": "code",
   "execution_count": 50,
   "id": "72e4cbea",
   "metadata": {},
   "outputs": [
    {
     "name": "stdout",
     "output_type": "stream",
     "text": [
      "['er', 'ui']\n",
      "erui\n"
     ]
    }
   ],
   "source": [
    "z = [12,'er',34,'ui']\n",
    "x = [item for item in z if not isinstance(item,(int,float))]\n",
    "\n",
    "print((x))\n",
    "y = \"\".join(x)\n",
    "print(y)\n",
    "\n"
   ]
  },
  {
   "cell_type": "code",
   "execution_count": 57,
   "id": "53b15356",
   "metadata": {},
   "outputs": [
    {
     "name": "stdout",
     "output_type": "stream",
     "text": [
      "[3, 4, 5, 'ty', 67, 89]\n",
      "[3, 4, 5, 67, 89]\n",
      "168\n"
     ]
    }
   ],
   "source": [
    "z = [[3,4,5],['ty',67,89]]\n",
    "x = [item for sublist in z for item in sublist]\n",
    "print(x)\n",
    "y = [item for item in x if isinstance(item, (int,float))]\n",
    "print(y)\n",
    "print(sum(y))\n",
    "\n",
    "\n"
   ]
  },
  {
   "cell_type": "code",
   "execution_count": 85,
   "id": "48d18116",
   "metadata": {},
   "outputs": [
    {
     "name": "stdout",
     "output_type": "stream",
     "text": [
      "[1, 2, 3, 3, 4, 5, 6]\n"
     ]
    }
   ],
   "source": [
    "x = [[1,2,3],[3,4],[5,6]]\n",
    "z = []\n",
    "for items in x:\n",
    "    for val in items:\n",
    "        z.append(val)\n",
    "print(z)\n"
   ]
  },
  {
   "cell_type": "code",
   "execution_count": 88,
   "id": "72acf0c5",
   "metadata": {},
   "outputs": [
    {
     "name": "stdout",
     "output_type": "stream",
     "text": [
      "[1, 2, 3, 3, 4, 5, 6]\n"
     ]
    }
   ],
   "source": [
    "x = [[1,2,3],[3,4],[5,6]]\n",
    "z = [val for items in x for val in items]\n",
    "print(z)"
   ]
  },
  {
   "cell_type": "code",
   "execution_count": 116,
   "id": "9f0a090e",
   "metadata": {},
   "outputs": [
    {
     "name": "stdout",
     "output_type": "stream",
     "text": [
      "[1, 2, 'a', 3, 4, 'b']\n"
     ]
    },
    {
     "ename": "TypeError",
     "evalue": "isinstance() arg 2 must be a type, a tuple of types, or a union",
     "output_type": "error",
     "traceback": [
      "\u001b[0;31m---------------------------------------------------------------------------\u001b[0m",
      "\u001b[0;31mTypeError\u001b[0m                                 Traceback (most recent call last)",
      "Cell \u001b[0;32mIn[116], line 6\u001b[0m\n\u001b[1;32m      3\u001b[0m \u001b[38;5;28mprint\u001b[39m(z)\n\u001b[1;32m      5\u001b[0m y \u001b[38;5;241m=\u001b[39m  \u001b[38;5;28mlist\u001b[39m (z)\n\u001b[0;32m----> 6\u001b[0m a \u001b[38;5;241m=\u001b[39m [item \u001b[38;5;28;01mfor\u001b[39;00m item \u001b[38;5;129;01min\u001b[39;00m y \u001b[38;5;28;01mif\u001b[39;00m \u001b[38;5;28misinstance\u001b[39m(item,(\u001b[38;5;28mstr\u001b[39m))]\n\u001b[1;32m      7\u001b[0m \u001b[38;5;28mprint\u001b[39m(a)\n",
      "Cell \u001b[0;32mIn[116], line 6\u001b[0m, in \u001b[0;36m<listcomp>\u001b[0;34m(.0)\u001b[0m\n\u001b[1;32m      3\u001b[0m \u001b[38;5;28mprint\u001b[39m(z)\n\u001b[1;32m      5\u001b[0m y \u001b[38;5;241m=\u001b[39m  \u001b[38;5;28mlist\u001b[39m (z)\n\u001b[0;32m----> 6\u001b[0m a \u001b[38;5;241m=\u001b[39m [item \u001b[38;5;28;01mfor\u001b[39;00m item \u001b[38;5;129;01min\u001b[39;00m y \u001b[38;5;28;01mif\u001b[39;00m \u001b[38;5;28misinstance\u001b[39m(item,(\u001b[38;5;28mstr\u001b[39m))]\n\u001b[1;32m      7\u001b[0m \u001b[38;5;28mprint\u001b[39m(a)\n",
      "\u001b[0;31mTypeError\u001b[0m: isinstance() arg 2 must be a type, a tuple of types, or a union"
     ]
    }
   ],
   "source": [
    "x = [[1,2],['a',3],[4,'b']]\n",
    "z = [val for items in x for val in items]\n",
    "print(z)\n",
    "\n",
    "y =  list (z)\n",
    "a = [item for item in y if isinstance(item,(str))]\n",
    "print(a)"
   ]
  }
 ],
 "metadata": {
  "kernelspec": {
   "display_name": "Python 3 (ipykernel)",
   "language": "python",
   "name": "python3"
  },
  "language_info": {
   "codemirror_mode": {
    "name": "ipython",
    "version": 3
   },
   "file_extension": ".py",
   "mimetype": "text/x-python",
   "name": "python",
   "nbconvert_exporter": "python",
   "pygments_lexer": "ipython3",
   "version": "3.11.3"
  }
 },
 "nbformat": 4,
 "nbformat_minor": 5
}
