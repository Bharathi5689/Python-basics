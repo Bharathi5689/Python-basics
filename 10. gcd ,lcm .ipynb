{
 "cells": [
  {
   "cell_type": "code",
   "execution_count": 1,
   "id": "99f76726",
   "metadata": {},
   "outputs": [
    {
     "name": "stdout",
     "output_type": "stream",
     "text": [
      "Element sum is 60\n",
      "Digit sum is  6\n",
      "Difference is   54\n"
     ]
    }
   ],
   "source": [
    "def diff(n):\n",
    "    element_sum = 0\n",
    "    digit_sum = 0\n",
    "    \n",
    "    for i in n:\n",
    "        element_sum = element_sum + i\n",
    "        \n",
    "        total = i\n",
    "        while total > 0:\n",
    "            digit_sum = digit_sum + total % 10\n",
    "            total //= 10\n",
    "    return element_sum, digit_sum\n",
    "\n",
    "x,y = diff([10,20,30])\n",
    "print(\"Element sum is\", x)\n",
    "print(\"Digit sum is \",y)\n",
    "print(\"Difference is  \", x - y)"
   ]
  },
  {
   "cell_type": "code",
   "execution_count": 1,
   "id": "98447ba0",
   "metadata": {},
   "outputs": [
    {
     "name": "stdout",
     "output_type": "stream",
     "text": [
      "The GCD of 10 and 15 is 5\n"
     ]
    }
   ],
   "source": [
    "def gcd( x, y):\n",
    "    gcd = 1\n",
    "    i = 1\n",
    "    while i <= x and i <= y:\n",
    "        if x% i == 0 and y % i == 0:\n",
    "            gcd = i\n",
    "        i = i+1\n",
    "    return gcd\n",
    "\n",
    "a = 10\n",
    "b = 15\n",
    "result = gcd(a, b)\n",
    "print(f\"The GCD of {a} and {b} is {result}\")\n",
    "\n",
    "    \n"
   ]
  },
  {
   "cell_type": "code",
   "execution_count": 1,
   "id": "165d5de6",
   "metadata": {},
   "outputs": [
    {
     "name": "stdout",
     "output_type": "stream",
     "text": [
      "1\n",
      "2\n",
      "5\n",
      "10\n"
     ]
    },
    {
     "data": {
      "text/plain": [
       "4"
      ]
     },
     "execution_count": 1,
     "metadata": {},
     "output_type": "execute_result"
    }
   ],
   "source": [
    "def lcm (x, y):\n",
    "    gcd = 1\n",
    "    i = 1\n",
    "    count = 0\n",
    "    while i <= x and i <= y :\n",
    "        if x % i == 0 and y % i == 0:\n",
    "            gcd = i\n",
    "            print(i)\n",
    "            count= count +1\n",
    "        i = i + 1\n",
    "        lcm = (x * y)/gcd\n",
    "    return count\n",
    "lcm(20,30)"
   ]
  },
  {
   "cell_type": "code",
   "execution_count": 26,
   "id": "4222eeb8",
   "metadata": {},
   "outputs": [
    {
     "name": "stdout",
     "output_type": "stream",
     "text": [
      "1\n",
      "5\n"
     ]
    },
    {
     "data": {
      "text/plain": [
       "2"
      ]
     },
     "execution_count": 26,
     "metadata": {},
     "output_type": "execute_result"
    }
   ],
   "source": [
    "def lcm (x,y):\n",
    "    i = 1\n",
    "    count = 0\n",
    "    while i <= x and i<= y:\n",
    "        if x % i == 0 and y % i == 0:\n",
    "            print(i)\n",
    "            count = count + 1\n",
    "        i = i + 1  \n",
    "    return count\n",
    "lcm(25,30)"
   ]
  },
  {
   "cell_type": "code",
   "execution_count": 44,
   "id": "9d00d590",
   "metadata": {},
   "outputs": [
    {
     "name": "stdout",
     "output_type": "stream",
     "text": [
      "1\n",
      "5\n"
     ]
    },
    {
     "data": {
      "text/plain": [
       "(5, 2)"
      ]
     },
     "execution_count": 44,
     "metadata": {},
     "output_type": "execute_result"
    }
   ],
   "source": [
    "def gcd(x,y):\n",
    "    i = 1\n",
    "    gcd = 1\n",
    "    count = 0\n",
    "    while i <= x and i <= y:\n",
    "        if x % i == 0 and y % i ==0:\n",
    "            print(i)  \n",
    "            gcd = i\n",
    "            count = count + 1    \n",
    "        i = i+1\n",
    "    return (gcd , count)\n",
    "    \n",
    "gcd(25,30)"
   ]
  },
  {
   "cell_type": "code",
   "execution_count": 101,
   "id": "aae4b211",
   "metadata": {},
   "outputs": [
    {
     "name": "stdout",
     "output_type": "stream",
     "text": [
      "the factors are :  1\n",
      "the factors are :  2\n",
      "the factors are :  3\n",
      "the factors are :  6\n",
      "the number of common factors is 4\n"
     ]
    }
   ],
   "source": [
    "def cf(a, b):\n",
    "    count = 0\n",
    "    for x in range(1, min(a, b) + 1):\n",
    "        if a % x == 0 and b % x == 0:\n",
    "            print(\"the factors are : \", x)\n",
    "            count += 1\n",
    "    return count\n",
    "\n",
    "result = cf(6,12)\n",
    "print(f\"the number of common factors is {result}\")\n"
   ]
  },
  {
   "cell_type": "code",
   "execution_count": 104,
   "id": "6133c9b2",
   "metadata": {},
   "outputs": [
    {
     "data": {
      "text/plain": [
       "'z'"
      ]
     },
     "execution_count": 104,
     "metadata": {},
     "output_type": "execute_result"
    }
   ],
   "source": [
    "max(\"a\",\"A\",\"1\",\"9\",\"z\")"
   ]
  },
  {
   "cell_type": "code",
   "execution_count": 105,
   "id": "ea3300c7",
   "metadata": {},
   "outputs": [
    {
     "data": {
      "text/plain": [
       "'1'"
      ]
     },
     "execution_count": 105,
     "metadata": {},
     "output_type": "execute_result"
    }
   ],
   "source": [
    "min(\"a\",\"A\",\"1\",\"9\",\"z\")"
   ]
  }
 ],
 "metadata": {
  "kernelspec": {
   "display_name": "Python 3 (ipykernel)",
   "language": "python",
   "name": "python3"
  },
  "language_info": {
   "codemirror_mode": {
    "name": "ipython",
    "version": 3
   },
   "file_extension": ".py",
   "mimetype": "text/x-python",
   "name": "python",
   "nbconvert_exporter": "python",
   "pygments_lexer": "ipython3",
   "version": "3.11.3"
  }
 },
 "nbformat": 4,
 "nbformat_minor": 5
}
