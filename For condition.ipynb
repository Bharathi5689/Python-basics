{
 "cells": [
  {
   "cell_type": "markdown",
   "id": "fdaf56de",
   "metadata": {},
   "source": [
    "# 1. Print first 10 natural number"
   ]
  },
  {
   "cell_type": "code",
   "execution_count": 1,
   "id": "648e69d8",
   "metadata": {},
   "outputs": [
    {
     "name": "stdout",
     "output_type": "stream",
     "text": [
      "1\n",
      "2\n",
      "3\n",
      "4\n",
      "5\n",
      "6\n",
      "7\n",
      "8\n",
      "9\n",
      "10\n"
     ]
    }
   ],
   "source": [
    "def print_natural_number(n):\n",
    "    i = 1\n",
    "    while i <= n:\n",
    "        print(i)\n",
    "        i = i + 1        \n",
    "print_natural_number(10)\n"
   ]
  },
  {
   "cell_type": "markdown",
   "id": "8f25fef3",
   "metadata": {},
   "source": [
    "# 2. Number pattern"
   ]
  },
  {
   "cell_type": "code",
   "execution_count": 10,
   "id": "6e457cc6",
   "metadata": {
    "scrolled": true
   },
   "outputs": [
    {
     "name": "stdout",
     "output_type": "stream",
     "text": [
      "\n",
      "1 \n",
      "2 2 \n",
      "3 3 3 \n",
      "4 4 4 4 \n",
      "5 5 5 5 5 \n"
     ]
    }
   ],
   "source": [
    "\n",
    "def number_pattern(n):\n",
    "    for i in range(n):\n",
    "        for j in range(i):\n",
    "            print (i,end=\" \")\n",
    "        print(\"\")\n",
    "number_pattern(6)"
   ]
  },
  {
   "cell_type": "markdown",
   "id": "163df95f",
   "metadata": {},
   "source": [
    "# 3. Sum of all numbers from 1 to a given number"
   ]
  },
  {
   "cell_type": "code",
   "execution_count": 3,
   "id": "4ff160c1",
   "metadata": {},
   "outputs": [
    {
     "data": {
      "text/plain": [
       "210"
      ]
     },
     "execution_count": 3,
     "metadata": {},
     "output_type": "execute_result"
    }
   ],
   "source": [
    "def sum_of_number(start,end):\n",
    "    sum=0\n",
    "    for i in range(start,end+1):\n",
    "        sum=sum+i    \n",
    "    return sum\n",
    "sum_of_number(0,20)"
   ]
  },
  {
   "cell_type": "code",
   "execution_count": 4,
   "id": "f73b0a43",
   "metadata": {},
   "outputs": [
    {
     "data": {
      "text/plain": [
       "28"
      ]
     },
     "execution_count": 4,
     "metadata": {},
     "output_type": "execute_result"
    }
   ],
   "source": [
    "def sum_of_number(start,end):\n",
    "    start=1\n",
    "    sum=0\n",
    "    for i in range(1,end+1):\n",
    "        sum=sum+i    \n",
    "    return sum\n",
    "sum_of_number(1,7)"
   ]
  },
  {
   "cell_type": "markdown",
   "id": "989fdb19",
   "metadata": {},
   "source": [
    "# 4. Multiplication table "
   ]
  },
  {
   "cell_type": "code",
   "execution_count": 5,
   "id": "fbcbd859",
   "metadata": {},
   "outputs": [
    {
     "name": "stdout",
     "output_type": "stream",
     "text": [
      "1 * 7 = 7\n",
      "2 * 7 = 14\n",
      "3 * 7 = 21\n",
      "4 * 7 = 28\n",
      "5 * 7 = 35\n",
      "6 * 7 = 42\n",
      "7 * 7 = 49\n",
      "8 * 7 = 56\n",
      "9 * 7 = 63\n"
     ]
    }
   ],
   "source": [
    "def mul_table(n):\n",
    "    for i in range(1,10):\n",
    "        print(i,\"*\",n,\"=\",n*i)\n",
    "mul_table(7)"
   ]
  },
  {
   "cell_type": "markdown",
   "id": "5186f345",
   "metadata": {},
   "source": [
    "# 5.Print numbers from a list using loop"
   ]
  },
  {
   "cell_type": "code",
   "execution_count": 6,
   "id": "dbf228de",
   "metadata": {},
   "outputs": [
    {
     "name": "stdout",
     "output_type": "stream",
     "text": [
      "10\n",
      "20\n",
      "30\n",
      "40\n",
      "50\n",
      "60\n",
      "70\n"
     ]
    }
   ],
   "source": [
    "def display(number):\n",
    "    for i in number:\n",
    "        print(i)\n",
    "display([10,20,30,40,50,60,70])\n",
    "    "
   ]
  },
  {
   "cell_type": "markdown",
   "id": "3ede234b",
   "metadata": {},
   "source": [
    " # 6.Count the total number of digits in a number"
   ]
  },
  {
   "cell_type": "code",
   "execution_count": 7,
   "id": "79c112f3",
   "metadata": {},
   "outputs": [
    {
     "name": "stdout",
     "output_type": "stream",
     "text": [
      "5\n"
     ]
    }
   ],
   "source": [
    "def count_digit(num):\n",
    "    count=0\n",
    "    while num!=0:\n",
    "        num=num//10\n",
    "        count=count+1\n",
    "    return count\n",
    "x=count_digit(12345)\n",
    "print(x)"
   ]
  },
  {
   "cell_type": "markdown",
   "id": "2ba633bb",
   "metadata": {},
   "source": [
    "# 7.Print the following pattern"
   ]
  },
  {
   "cell_type": "code",
   "execution_count": 35,
   "id": "7026eb54",
   "metadata": {},
   "outputs": [
    {
     "name": "stdout",
     "output_type": "stream",
     "text": [
      "4321\n",
      "321\n",
      "21\n",
      "1\n"
     ]
    }
   ],
   "source": [
    "def number_pattern(n):\n",
    "    for i in range(n,0,-1):\n",
    "        for j in range(i,0,-1):\n",
    "            print(j,end=\"\")\n",
    "        print(\"\")\n",
    "number_pattern(4)"
   ]
  },
  {
   "cell_type": "markdown",
   "id": "b75fa43c",
   "metadata": {},
   "source": [
    "# 8. Print list in reverse order using a loop"
   ]
  },
  {
   "cell_type": "code",
   "execution_count": 9,
   "id": "c49df7ed",
   "metadata": {},
   "outputs": [
    {
     "name": "stdout",
     "output_type": "stream",
     "text": [
      "100\n",
      "90\n",
      "80\n",
      "70\n",
      "60\n",
      "50\n",
      "40\n",
      "30\n",
      "20\n",
      "10\n"
     ]
    }
   ],
   "source": [
    "def rev_order(l2):\n",
    "    length=len(l2)-1\n",
    "    for i in range(length,-1,-1):\n",
    "        print(l2[i])\n",
    "my_list=[10,20,30,40,50,60,70,80,90,100]\n",
    "rev_order(my_list)"
   ]
  },
  {
   "cell_type": "markdown",
   "id": "052d8730",
   "metadata": {},
   "source": [
    "# 9.Display numbers from -10 to -1 using for loop"
   ]
  },
  {
   "cell_type": "code",
   "execution_count": 10,
   "id": "84f2905e",
   "metadata": {},
   "outputs": [
    {
     "name": "stdout",
     "output_type": "stream",
     "text": [
      "-10\n",
      "-9\n",
      "-8\n",
      "-7\n",
      "-6\n",
      "-5\n",
      "-4\n",
      "-3\n",
      "-2\n",
      "-1\n"
     ]
    }
   ],
   "source": [
    "def negative(start,end):\n",
    "    for i in range(start,end+1):\n",
    "        print(i)     \n",
    "negative(-10,-1)\n"
   ]
  },
  {
   "cell_type": "markdown",
   "id": "193fa478",
   "metadata": {},
   "source": [
    "# 10.Use else block to display a message “Done” after successful execution of for loop"
   ]
  },
  {
   "cell_type": "code",
   "execution_count": 1,
   "id": "b2613541",
   "metadata": {},
   "outputs": [
    {
     "name": "stdout",
     "output_type": "stream",
     "text": [
      "0\n",
      "1\n",
      "2\n",
      "3\n",
      "4\n",
      "Done!\n"
     ]
    }
   ],
   "source": [
    "def block(start,end):\n",
    "    for i in range(start,end):\n",
    "        print(i)\n",
    "    else:\n",
    "        print(\"Done!\")\n",
    "block(0,5)"
   ]
  },
  {
   "cell_type": "markdown",
   "id": "fac9e740",
   "metadata": {},
   "source": [
    "# 11.Program to display all prime numbers within a range"
   ]
  },
  {
   "cell_type": "code",
   "execution_count": 15,
   "id": "5289795d",
   "metadata": {},
   "outputs": [
    {
     "name": "stdout",
     "output_type": "stream",
     "text": [
      "[11, 13, 17, 19]\n"
     ]
    }
   ],
   "source": [
    "def prime_number(start,end):\n",
    "    primes=[]\n",
    "    if start > 1 and end >= start:\n",
    "        for num in range(start,end+1):\n",
    "                prime=True\n",
    "                for i in range(2,num):\n",
    "                    if(num%i)==0:\n",
    "                        prime=False\n",
    "                        break\n",
    "                if prime:\n",
    "                    primes.append(num)\n",
    "    return primes\n",
    "\n",
    "x=prime_number(11,20)\n",
    "print(x)"
   ]
  },
  {
   "cell_type": "markdown",
   "id": "3fe75de0",
   "metadata": {},
   "source": [
    "# 12.Display Fibonacci series up to 10 terms"
   ]
  },
  {
   "cell_type": "code",
   "execution_count": 78,
   "id": "45cb7e4d",
   "metadata": {
    "scrolled": true
   },
   "outputs": [
    {
     "name": "stdout",
     "output_type": "stream",
     "text": [
      "0 1 1 2 3 5 8 13 21 34 55 "
     ]
    },
    {
     "data": {
      "text/plain": [
       "144"
      ]
     },
     "execution_count": 78,
     "metadata": {},
     "output_type": "execute_result"
    }
   ],
   "source": [
    "def fibonacci(start,end):\n",
    "    num1 = 0\n",
    "    num2 = 1\n",
    "    for i in range(start,end+1):\n",
    "        print(num1, end =\" \")\n",
    "        result = num1 + num2\n",
    "        num1 = num2\n",
    "        num2 = result\n",
    "    return result\n",
    "fibonacci(0,10)"
   ]
  },
  {
   "cell_type": "markdown",
   "id": "bc3d938f",
   "metadata": {},
   "source": [
    "# 13.Find the factorial of a given number\n"
   ]
  },
  {
   "cell_type": "code",
   "execution_count": 79,
   "id": "58cecbe0",
   "metadata": {},
   "outputs": [
    {
     "name": "stdout",
     "output_type": "stream",
     "text": [
      "120\n"
     ]
    }
   ],
   "source": [
    "def fact(n):\n",
    "    fact=1\n",
    "    for i in range(1,n+1):\n",
    "        fact=fact*i\n",
    "    return fact\n",
    "x=fact(5)\n",
    "print(x)"
   ]
  },
  {
   "cell_type": "markdown",
   "id": "e6a8af4f",
   "metadata": {},
   "source": [
    "# 14.Reverse a given integer number"
   ]
  },
  {
   "cell_type": "code",
   "execution_count": 10,
   "id": "8cd73933",
   "metadata": {},
   "outputs": [
    {
     "name": "stdout",
     "output_type": "stream",
     "text": [
      "the reverse of number is 54321\n"
     ]
    }
   ],
   "source": [
    "def reverse_integer_number(n):\n",
    "    rev_number = \"\"\n",
    "    for i in range(len(n)-1,-1,-1):\n",
    "        rev_number += n[i]\n",
    "    return rev_number\n",
    "x = reverse_integer_number(\"12345\")\n",
    "print(f\"the reverse of number is {x}\")\n",
    "        "
   ]
  },
  {
   "cell_type": "markdown",
   "id": "13d757d9",
   "metadata": {},
   "source": [
    "# 15. Display elements from a given list present at odd index positions"
   ]
  },
  {
   "cell_type": "code",
   "execution_count": 21,
   "id": "94a16fc7",
   "metadata": {},
   "outputs": [
    {
     "name": "stdout",
     "output_type": "stream",
     "text": [
      "20\n",
      "40\n",
      "60\n"
     ]
    }
   ],
   "source": [
    "def odd_index(x):\n",
    "    for i in range(1,len(x),2):\n",
    "        print(x[i])\n",
    "my_list=[10,20,30,40,50,60]\n",
    "odd_index(my_list)\n",
    "    \n"
   ]
  },
  {
   "cell_type": "markdown",
   "id": "881cdb8f",
   "metadata": {},
   "source": [
    "# 16.Cube of all numbers from 1 to a given number"
   ]
  },
  {
   "cell_type": "code",
   "execution_count": 1,
   "id": "d195906c",
   "metadata": {},
   "outputs": [
    {
     "name": "stdout",
     "output_type": "stream",
     "text": [
      "the cube is [1, 2, 3, 4, 5]\n"
     ]
    }
   ],
   "source": [
    "def cube(start,end):\n",
    "    cube = []\n",
    "    for i in range(1,end+1):\n",
    "        i_cube=i*i*i\n",
    "        cube.append(i)\n",
    "    return cube\n",
    "x = cube(1,5)\n",
    "print(f\"the cube is {x}\")\n",
    "\n"
   ]
  },
  {
   "cell_type": "code",
   "execution_count": 90,
   "id": "a8bb76ea",
   "metadata": {},
   "outputs": [
    {
     "name": "stdout",
     "output_type": "stream",
     "text": [
      "the cube of 1  is 1\n",
      "the cube of 2  is 8\n",
      "the cube of 3  is 27\n",
      "the cube of 4  is 64\n",
      "the cube of 5  is 125\n"
     ]
    }
   ],
   "source": [
    "def cube(start,end):\n",
    "    cube = []\n",
    "    for i in range(1,end+1):\n",
    "        cubes_i=i*i*i\n",
    "        cube.append((i,cubes_i))\n",
    "    return cube\n",
    "x = cube(1,5)\n",
    "for num, cube_value in x:\n",
    "    print(f\"the cube of {num}  is {cube_value}\")\n"
   ]
  },
  {
   "cell_type": "markdown",
   "id": "11cb33cd",
   "metadata": {},
   "source": [
    "# 17. Sum of the series upto n terms"
   ]
  },
  {
   "cell_type": "code",
   "execution_count": 17,
   "id": "a829a804",
   "metadata": {},
   "outputs": [
    {
     "name": "stdout",
     "output_type": "stream",
     "text": [
      "the sum is 36.0\n"
     ]
    }
   ],
   "source": [
    "def sum_of_series(n):\n",
    "    for i in range(0,n+1,1):\n",
    "        sum = n*(n+1)/2\n",
    "    return sum\n",
    "x = sum_of_series(8)\n",
    "print(f\"the sum is {x}\")\n",
    "    "
   ]
  },
  {
   "cell_type": "markdown",
   "id": "be85c28e",
   "metadata": {},
   "source": [
    "# 18. Print the following pattern"
   ]
  },
  {
   "cell_type": "code",
   "execution_count": 91,
   "id": "061abb96",
   "metadata": {},
   "outputs": [
    {
     "name": "stdout",
     "output_type": "stream",
     "text": [
      "\n",
      "*\n",
      "**\n",
      "***\n",
      "****\n",
      "*****\n",
      "******\n",
      "*****\n",
      "****\n",
      "***\n",
      "**\n",
      "*\n"
     ]
    }
   ],
   "source": [
    "def print_pattern(n):\n",
    "    for i in range(n):\n",
    "        for j in range(i):\n",
    "            print(\"*\",end =\"\")\n",
    "        print(\"\")\n",
    "    for i in range(n,0,-1):\n",
    "        for j in range(i,0,-1):\n",
    "            print(\"*\", end=\"\")\n",
    "        print(\"\")\n",
    "print_pattern(6)\n",
    "\n"
   ]
  }
 ],
 "metadata": {
  "kernelspec": {
   "display_name": "Python 3 (ipykernel)",
   "language": "python",
   "name": "python3"
  },
  "language_info": {
   "codemirror_mode": {
    "name": "ipython",
    "version": 3
   },
   "file_extension": ".py",
   "mimetype": "text/x-python",
   "name": "python",
   "nbconvert_exporter": "python",
   "pygments_lexer": "ipython3",
   "version": "3.11.3"
  }
 },
 "nbformat": 4,
 "nbformat_minor": 5
}
