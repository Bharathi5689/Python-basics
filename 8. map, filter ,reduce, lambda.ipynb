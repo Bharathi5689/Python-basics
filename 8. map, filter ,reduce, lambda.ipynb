{
 "cells": [
  {
   "cell_type": "code",
   "execution_count": 35,
   "id": "b907ed98",
   "metadata": {},
   "outputs": [
    {
     "name": "stdout",
     "output_type": "stream",
     "text": [
      "['geeks', ' for', ' geeks']\n",
      "geeks,for,geeks\n"
     ]
    }
   ],
   "source": [
    "word = 'geeks, for, geeks'\n",
    "print(word.split(','))\n",
    "result = \"\".join(word.replace(\" \",\"\"))\n",
    "print(result)\n",
    "\n"
   ]
  },
  {
   "cell_type": "markdown",
   "id": "10fa0ac0",
   "metadata": {},
   "source": [
    "# replace"
   ]
  },
  {
   "cell_type": "code",
   "execution_count": 1,
   "id": "ef2ff59d",
   "metadata": {},
   "outputs": [
    {
     "name": "stdout",
     "output_type": "stream",
     "text": [
      "b,h,a,r,a,t,h,i,123\n"
     ]
    }
   ],
   "source": [
    "st = \"b h a r a t h i 123\"\n",
    "x = st.replace(\" \",\",\")\n",
    "print(x)"
   ]
  },
  {
   "cell_type": "code",
   "execution_count": 1,
   "id": "5edb1d38",
   "metadata": {},
   "outputs": [
    {
     "name": "stdout",
     "output_type": "stream",
     "text": [
      "['one', 'two', 'three']\n",
      "['1234']\n"
     ]
    }
   ],
   "source": [
    "ly = ['one','two','three','1234']\n",
    "\n",
    "x = [i for i in ly if i.isalpha()]\n",
    "print(x)\n",
    "\n",
    "x = [i for i in ly if i.isnumeric()]\n",
    "print(x)"
   ]
  },
  {
   "cell_type": "code",
   "execution_count": 22,
   "id": "d281582c",
   "metadata": {},
   "outputs": [
    {
     "name": "stdout",
     "output_type": "stream",
     "text": [
      "['two', 'three']\n",
      "['one']\n"
     ]
    }
   ],
   "source": [
    "ly = ['one','two','three','1234']\n",
    "\n",
    "x = [s for s in ly if s.isalpha() and not s.startswith('o')]\n",
    "print(x)\n",
    "\n",
    "ly = ['one','two','three','1234']\n",
    "x = [i for i in ly if i.isalpha() and  not i.startswith('t') or ('z' in i)]\n",
    "print(x)"
   ]
  },
  {
   "cell_type": "code",
   "execution_count": 26,
   "id": "736e62bc",
   "metadata": {},
   "outputs": [
    {
     "name": "stdout",
     "output_type": "stream",
     "text": [
      "['onexxxtwo', 'threexxxfour']\n"
     ]
    }
   ],
   "source": [
    "import re\n",
    "\n",
    "x =[\"onexxxtwo\",\"threexxxfour\",\"fiveyyysix\",\"sevenyyyeight\"]\n",
    "\n",
    "rematch = [ i for i in x if re.match('.*xxx.*',i)]\n",
    "print(rematch)"
   ]
  },
  {
   "cell_type": "code",
   "execution_count": 46,
   "id": "1d79f948",
   "metadata": {},
   "outputs": [
    {
     "name": "stdout",
     "output_type": "stream",
     "text": [
      "['onexxxtwo', 'threexxxfour']\n",
      "\n",
      "\n",
      "['fiveyyysix', 'sevenyyyeight']\n",
      "\n",
      "\n",
      "['onexxxtwo', 'threexxxfour', 'zzz', 'zzz']\n",
      "\n",
      "\n",
      "['threexxxfour']\n",
      "\n",
      "\n",
      "['onexxxtwo', 'fiveyyysix', 'sevenyyyeight']\n",
      "\n",
      "\n",
      "['sevenyyyeight']\n",
      "\n",
      "\n",
      "['onexxxtwo', 'threexxxfour', 'fiveyyysix']\n",
      "\n",
      "\n",
      "['onexxxtwo', 'threexxxfour', 'fiveyyysix', 'sevenyyyeight']\n",
      "\n",
      "\n",
      "['ONEXXXTWO', 'THREEXXXFOUR', 'FIVEYYYSIX', 'SEVENYYYEIGHT']\n",
      "\n",
      "\n",
      "['ONEXXXTWO', 'THREEXXXFOUR', 'FIVEYYYSIX', 'SEVENYYYEIGHT']\n",
      "\n",
      "\n"
     ]
    }
   ],
   "source": [
    "x =[\"onexxxtwo\",\"threexxxfour\",\"fiveyyysix\",\"sevenyyyeight\"]\n",
    "\n",
    "l = [i for i in x if 'xxx' in i ]\n",
    "print(l)\n",
    "print('\\n')\n",
    "\n",
    "lnot = [ i for i in x if 'xxx' not in i]\n",
    "print(lnot)\n",
    "print('\\n')\n",
    "\n",
    "\n",
    "x =[\"onexxxtwo\",\"threexxxfour\",\"fiveyyysix\",\"sevenyyyeight\"]\n",
    "l1 = ['zzz' if 'yyy' in i else i for i in x]\n",
    "print(l1)\n",
    "print('\\n')\n",
    "\n",
    "\n",
    "y = [i for i in x if i.startswith('t')]\n",
    "print(y)\n",
    "print('\\n')\n",
    "\n",
    "y =[i for i in x if not i.startswith('t')]\n",
    "print(y)\n",
    "print('\\n')\n",
    "\n",
    "y = [i for i in x if i.endswith('t')]\n",
    "print(y)\n",
    "print('\\n')\n",
    "\n",
    "y =[i for i in x if not i.endswith('t')]\n",
    "print(y)\n",
    "print('\\n')\n",
    "\n",
    "y =[i for i in x if i.lower()]\n",
    "print(y)\n",
    "print('\\n')\n",
    "\n",
    "y =[i.upper() for i in x ]\n",
    "print(y)\n",
    "print('\\n')\n",
    "\n",
    "y =[i.upper() if i.islower() else i for i in x]\n",
    "print(y)\n",
    "print('\\n')"
   ]
  },
  {
   "cell_type": "code",
   "execution_count": 26,
   "id": "bede68b3",
   "metadata": {},
   "outputs": [
    {
     "name": "stdout",
     "output_type": "stream",
     "text": [
      "['one two', 'three four', 'fiveyyysix', 'sevenyyyeight']\n"
     ]
    }
   ],
   "source": [
    "x =[\"onexxxtwo\",\"threexxxfour\",\"fiveyyysix\",\"sevenyyyeight\"]\n",
    "\n",
    "l = [i.replace('xxx',' ') for  i in x]\n",
    "print(l)"
   ]
  },
  {
   "cell_type": "code",
   "execution_count": 3,
   "id": "33f33b9b",
   "metadata": {},
   "outputs": [
    {
     "name": "stdout",
     "output_type": "stream",
     "text": [
      "['ragav', 'sakthi', 'magi', 'kavi']\n"
     ]
    }
   ],
   "source": [
    "# list indexing-- l[index] = new_value\n",
    "\n",
    "list_1 = ['ragav','sakthi','magi','xxx']\n",
    "list_1[3] = 'kavi'\n",
    "print(list_1)\n"
   ]
  },
  {
   "cell_type": "code",
   "execution_count": 37,
   "id": "1802fd34",
   "metadata": {},
   "outputs": [
    {
     "name": "stdout",
     "output_type": "stream",
     "text": [
      "['ragav', 'sakthi', 'magi', 'kavi', 'GKB']\n"
     ]
    }
   ],
   "source": [
    "#using for loop\n",
    "list_1 = ['ragav','sakthi','magi','xxx','yyy']\n",
    "for i in range(len(list_1)):\n",
    "    if list_1[i] == 'xxx':\n",
    "        list_1[i] ='kavi'\n",
    "    if list_1[i] =='yyy':\n",
    "        list_1[i]='GKB'\n",
    "print(list_1)"
   ]
  },
  {
   "cell_type": "code",
   "execution_count": 33,
   "id": "2de43eee",
   "metadata": {},
   "outputs": [
    {
     "name": "stdout",
     "output_type": "stream",
     "text": [
      "['ragav', 'sakthi', 'magi', 'kavi', 'gkb']\n"
     ]
    }
   ],
   "source": [
    "list_1 = ['ragav','sakthi','magi','xxx','yyy']\n",
    "result = ['kavi' if item =='xxx' else 'gkb' if item =='yyy' else item for item in list_1]\n",
    "print(result)"
   ]
  },
  {
   "cell_type": "code",
   "execution_count": 40,
   "id": "2534f634",
   "metadata": {},
   "outputs": [
    {
     "name": "stdout",
     "output_type": "stream",
     "text": [
      "['ragav', 'sakthi', 'magi', 'kavi', 'gkb']\n"
     ]
    }
   ],
   "source": [
    "# using while loop\n",
    "lst = ['ragav','sakthi','magi','xxx','yyy']\n",
    "i = 0\n",
    "while i < len(lst):\n",
    "    if lst[i] == 'xxx':\n",
    "        lst[i] ='kavi'\n",
    "    if lst[i] =='yyy':\n",
    "        lst[i] ='gkb'\n",
    "    i += 1\n",
    "print(lst)  "
   ]
  },
  {
   "cell_type": "code",
   "execution_count": 54,
   "id": "2e2f2ea0",
   "metadata": {},
   "outputs": [
    {
     "name": "stdout",
     "output_type": "stream",
     "text": [
      "['ragav', 'sakthi', 'magi', 'kavi', 'gkb']\n"
     ]
    }
   ],
   "source": [
    "# using lambda func\n",
    "list_1 = ['ragav','sakthi','magi','xxx','yyy']\n",
    "result = list(map(lambda list_1 : list_1.replace('xxx','kavi').replace('yyy','gkb'),list_1))\n",
    "print(result)"
   ]
  },
  {
   "cell_type": "code",
   "execution_count": 6,
   "id": "fbc53712",
   "metadata": {},
   "outputs": [
    {
     "name": "stdout",
     "output_type": "stream",
     "text": [
      "['ragav', 'sakthi', 'magi', 'veni']\n"
     ]
    }
   ],
   "source": [
    "# using list slicing \n",
    "\n",
    "# i = l.index('value')\n",
    "#l = l[:index]+['new_value']+[index+1:]\n",
    "\n",
    "\n",
    "l = ['ragav','sakthi','magi','xxx','yyy','zzz']\n",
    "\n",
    "i = l.index('xxx')\n",
    "l = l[:i] + ['kavi'] + l[i+1:]\n",
    "\n",
    "i2 = l.index('yyy')\n",
    "l = l[:i2] + ['gkb'] + l[i2+1:]\n",
    "\n",
    "i3 = l.index('zzz')\n",
    "l = l[:i] + ['veni'] + l[i3+1:]\n",
    "\n",
    "print(l)"
   ]
  },
  {
   "cell_type": "code",
   "execution_count": 13,
   "id": "38b919b2",
   "metadata": {},
   "outputs": [
    {
     "name": "stdout",
     "output_type": "stream",
     "text": [
      "['dog', 'cat', 'lion', 'bat', 'eagle', 'cow', 'goat']\n",
      "['dog', 'cat', 'lion', 'bat', 'tiger', 'cow', 'goat']\n"
     ]
    }
   ],
   "source": [
    "l = ['dog','cat','rat','bat','eagle','cow','goat']\n",
    "i = l.index('rat')\n",
    "l = l[:i] +['lion']+l[i+1:]\n",
    "print(l)\n",
    "\n",
    "i1 = l.index('eagle')\n",
    "l = l[:i1]+['tiger']+l[i1+1:]\n",
    "print(l)"
   ]
  },
  {
   "cell_type": "markdown",
   "id": "1858d251",
   "metadata": {},
   "source": [
    "# import reduce"
   ]
  },
  {
   "cell_type": "code",
   "execution_count": 93,
   "id": "178999e7",
   "metadata": {},
   "outputs": [
    {
     "name": "stdout",
     "output_type": "stream",
     "text": [
      "['ragav', 'sakthi', 'magi', 'GKB']\n"
     ]
    }
   ],
   "source": [
    "from functools import reduce\n",
    "\n",
    "l = ['ragav','sakthi','magi','xxx']\n",
    "\n",
    "l1 = reduce(lambda a, b : a + ['GKB'] if b == 'xxx' else a + [b], l, [])\n",
    "\n",
    "print(l1)"
   ]
  },
  {
   "cell_type": "code",
   "execution_count": 2,
   "id": "2da00a3a",
   "metadata": {},
   "outputs": [
    {
     "name": "stdout",
     "output_type": "stream",
     "text": [
      "['dog', 'cat', 'cow', 'bear']\n"
     ]
    }
   ],
   "source": [
    "from functools import reduce\n",
    "\n",
    "l =['dog','cat','cow','goat']\n",
    "\n",
    "l1 = reduce(lambda a, b : a + ['bear'] if b == 'goat' else  a + [b] ,l,[])\n",
    "print(l1)"
   ]
  },
  {
   "cell_type": "code",
   "execution_count": 18,
   "id": "5fe2fd02",
   "metadata": {},
   "outputs": [
    {
     "name": "stdout",
     "output_type": "stream",
     "text": [
      "['cat', 'dog', 'rat', 'bat', 'lion', 'cow', 'goat']\n"
     ]
    }
   ],
   "source": [
    "from functools import reduce\n",
    "\n",
    "l = ['cat','dog','rat','bat','eagle','cow','goat']\n",
    "\n",
    "l1 = reduce(lambda a,b : a + ['lion'] if b == 'eagle' else a + [b] , l, [])\n",
    "print(l1)"
   ]
  },
  {
   "cell_type": "markdown",
   "id": "aecff8ec",
   "metadata": {},
   "source": [
    "# lambda"
   ]
  },
  {
   "cell_type": "code",
   "execution_count": 2,
   "id": "1b0094cb",
   "metadata": {},
   "outputs": [
    {
     "data": {
      "text/plain": [
       "25"
      ]
     },
     "execution_count": 2,
     "metadata": {},
     "output_type": "execute_result"
    }
   ],
   "source": [
    "def square(n):\n",
    "    return n**2\n",
    "square(5)"
   ]
  },
  {
   "cell_type": "code",
   "execution_count": 5,
   "id": "2a6bf20f",
   "metadata": {},
   "outputs": [
    {
     "data": {
      "text/plain": [
       "25"
      ]
     },
     "execution_count": 5,
     "metadata": {},
     "output_type": "execute_result"
    }
   ],
   "source": [
    "square = lambda n : n**2\n",
    "\n",
    "square(5)  "
   ]
  },
  {
   "cell_type": "code",
   "execution_count": 16,
   "id": "9e37e98a",
   "metadata": {},
   "outputs": [
    {
     "data": {
      "text/plain": [
       "20"
      ]
     },
     "execution_count": 16,
     "metadata": {},
     "output_type": "execute_result"
    }
   ],
   "source": [
    "x = lambda x , y :  x if x > y else y\n",
    "x(20,3)"
   ]
  },
  {
   "cell_type": "code",
   "execution_count": 55,
   "id": "5fd83ba7",
   "metadata": {},
   "outputs": [
    {
     "name": "stdout",
     "output_type": "stream",
     "text": [
      "[1, 9, 25, 49, 81]\n"
     ]
    }
   ],
   "source": [
    "square = []\n",
    "for i in range(1,10,2):\n",
    "    square.append(i**2)\n",
    "print(square)"
   ]
  },
  {
   "cell_type": "code",
   "execution_count": 61,
   "id": "32e1237c",
   "metadata": {},
   "outputs": [
    {
     "data": {
      "text/plain": [
       "[1, 9, 25, 49, 81]"
      ]
     },
     "execution_count": 61,
     "metadata": {},
     "output_type": "execute_result"
    }
   ],
   "source": [
    "def square(n):\n",
    "    return n**2\n",
    "square = map(square,range(1,10,2))\n",
    "list(square)"
   ]
  },
  {
   "cell_type": "code",
   "execution_count": 63,
   "id": "9a08e3ea",
   "metadata": {},
   "outputs": [
    {
     "name": "stdout",
     "output_type": "stream",
     "text": [
      "[1, 9, 25, 49, 81]\n"
     ]
    }
   ],
   "source": [
    "square = list(map(lambda n : n**2 ,range(1,10,2)))\n",
    "print(square)"
   ]
  },
  {
   "cell_type": "code",
   "execution_count": 65,
   "id": "f8fc1fba",
   "metadata": {},
   "outputs": [
    {
     "name": "stdout",
     "output_type": "stream",
     "text": [
      "[4, 10, 18]\n"
     ]
    }
   ],
   "source": [
    "x = [1,2,3]\n",
    "y = [4,5,6]\n",
    "result = list(map(lambda x,y : x*y, x,y))\n",
    "print(result)"
   ]
  },
  {
   "cell_type": "code",
   "execution_count": 71,
   "id": "d91090cb",
   "metadata": {},
   "outputs": [
    {
     "name": "stdout",
     "output_type": "stream",
     "text": [
      "{9, 5, 7}\n"
     ]
    }
   ],
   "source": [
    "x = [1,2,3]\n",
    "y = [4,5,6]\n",
    "result = set(map(lambda x,y : x+y , x,y))\n",
    "print(result)"
   ]
  },
  {
   "cell_type": "code",
   "execution_count": 83,
   "id": "d32ee881",
   "metadata": {},
   "outputs": [
    {
     "name": "stdout",
     "output_type": "stream",
     "text": [
      "{1: 4, 2: 10, 3: 18}\n"
     ]
    }
   ],
   "source": [
    "x = [1,2,3]\n",
    "y =[4,5,6]\n",
    "result = dict(map(lambda x, y :(x , y := x*y), x, y))\n",
    "print(result)"
   ]
  },
  {
   "cell_type": "markdown",
   "id": "f564aaa1",
   "metadata": {},
   "source": [
    "# filter"
   ]
  },
  {
   "cell_type": "code",
   "execution_count": 87,
   "id": "4d262ce8",
   "metadata": {},
   "outputs": [
    {
     "name": "stdout",
     "output_type": "stream",
     "text": [
      "[1, 23, 89]\n"
     ]
    }
   ],
   "source": [
    "nums = [1,34,23,56,88,89,44]\n",
    "odd_nums =[i for i in nums if  i % 2 !=0]\n",
    "print(odd_nums)"
   ]
  },
  {
   "cell_type": "code",
   "execution_count": 98,
   "id": "7d557f5d",
   "metadata": {},
   "outputs": [
    {
     "name": "stdout",
     "output_type": "stream",
     "text": [
      "1\n",
      "23\n",
      "89\n"
     ]
    }
   ],
   "source": [
    "nums = [1,34,23,56,88,89,44]\n",
    "for i in nums:\n",
    "    if i%2 != 0:\n",
    "        print(i)\n",
    "    "
   ]
  },
  {
   "cell_type": "markdown",
   "id": "d03b2b4f",
   "metadata": {},
   "source": [
    "# reduce"
   ]
  },
  {
   "cell_type": "code",
   "execution_count": 101,
   "id": "2e317bb4",
   "metadata": {},
   "outputs": [
    {
     "name": "stdout",
     "output_type": "stream",
     "text": [
      "15\n"
     ]
    }
   ],
   "source": [
    "nums = [1,2,3,4,5]\n",
    "total = 0\n",
    "for i in nums:\n",
    "    total = total + i\n",
    "print(total)"
   ]
  },
  {
   "cell_type": "code",
   "execution_count": 5,
   "id": "8a4a4343",
   "metadata": {},
   "outputs": [
    {
     "name": "stdout",
     "output_type": "stream",
     "text": [
      "15\n"
     ]
    }
   ],
   "source": [
    "from functools import reduce\n",
    "\n",
    "nums = [1, 2, 3, 4, 5]\n",
    "total = reduce(lambda x, y: x + y, nums)\n",
    "print(total)\n"
   ]
  },
  {
   "cell_type": "markdown",
   "id": "c0ac17dc",
   "metadata": {},
   "source": [
    "# medium.com"
   ]
  },
  {
   "cell_type": "code",
   "execution_count": 112,
   "id": "be5bb16f",
   "metadata": {},
   "outputs": [
    {
     "name": "stdout",
     "output_type": "stream",
     "text": [
      "25\n"
     ]
    }
   ],
   "source": [
    "def my_fun(x):\n",
    "    return  x**2\n",
    "x = my_fun(5)\n",
    "print(x)"
   ]
  },
  {
   "cell_type": "code",
   "execution_count": 111,
   "id": "56cbdcd8",
   "metadata": {},
   "outputs": [
    {
     "name": "stdout",
     "output_type": "stream",
     "text": [
      "25\n"
     ]
    }
   ],
   "source": [
    "y = lambda x : x**2\n",
    "x = y(5)\n",
    "print(x)"
   ]
  },
  {
   "cell_type": "code",
   "execution_count": 128,
   "id": "868c9b54",
   "metadata": {},
   "outputs": [
    {
     "name": "stdout",
     "output_type": "stream",
     "text": [
      "enter a number: 3\n",
      "enter a number: 4\n",
      "multiplication is:   12\n"
     ]
    }
   ],
   "source": [
    "num_1 = int(input(\"enter a number: \"))\n",
    "num_2 = int(input(\"enter a number: \"))\n",
    "mult = lambda x,y : x*y\n",
    "print(\"multiplication is:  \",mult(num_1,num_2))"
   ]
  },
  {
   "cell_type": "code",
   "execution_count": 142,
   "id": "6c9fae12",
   "metadata": {},
   "outputs": [
    {
     "name": "stdout",
     "output_type": "stream",
     "text": [
      "[1, 8, 15]\n"
     ]
    }
   ],
   "source": [
    "def mul(a,b):\n",
    "    return a*b\n",
    "a = [1,2,3]\n",
    "b = [1,4,5]\n",
    "c = list(map(mul,a,b))\n",
    "print(c)"
   ]
  },
  {
   "cell_type": "code",
   "execution_count": 135,
   "id": "326a09b3",
   "metadata": {},
   "outputs": [
    {
     "name": "stdout",
     "output_type": "stream",
     "text": [
      "[1, 8, 15]\n"
     ]
    }
   ],
   "source": [
    "a = [1,2,3]\n",
    "b = [1,4,5]\n",
    "result = list(map(lambda a,b : a*b, a,b))\n",
    "print(result)"
   ]
  },
  {
   "cell_type": "code",
   "execution_count": 143,
   "id": "6e19885d",
   "metadata": {},
   "outputs": [
    {
     "name": "stdout",
     "output_type": "stream",
     "text": [
      "[1, 8, 27]\n"
     ]
    }
   ],
   "source": [
    "def cube(x):\n",
    "    return x*x*x\n",
    "x=[1,2,3]\n",
    "result = list(map(lambda x: cube(x),x))\n",
    "print(result)"
   ]
  },
  {
   "cell_type": "code",
   "execution_count": 146,
   "id": "f2051c0f",
   "metadata": {},
   "outputs": [
    {
     "name": "stdout",
     "output_type": "stream",
     "text": [
      "[20, 500, 456, 776, 232, 56]\n"
     ]
    }
   ],
   "source": [
    "prices = [20,500,456,776,232,56,55,7263,5235579]\n",
    "even_prices =list(filter(lambda x : (x % 2 == 0),prices))\n",
    "print(even_prices)"
   ]
  },
  {
   "cell_type": "code",
   "execution_count": 148,
   "id": "7c3b168b",
   "metadata": {},
   "outputs": [
    {
     "name": "stdout",
     "output_type": "stream",
     "text": [
      "[500, 776, 7263, 5235579]\n"
     ]
    }
   ],
   "source": [
    "prices = [20,500,456,776,232,56,55,7263,5235579]\n",
    "filt_prices =list(filter(lambda x : x >= 500 ,prices))\n",
    "print(filt_prices)"
   ]
  },
  {
   "cell_type": "code",
   "execution_count": 152,
   "id": "f8ed30a5",
   "metadata": {},
   "outputs": [
    {
     "name": "stdout",
     "output_type": "stream",
     "text": [
      "[20, 500, 456, 232, 56, 55]\n"
     ]
    }
   ],
   "source": [
    "prices = [20,500,456,776,232,56,55,7263,5235579]\n",
    "filt_prices =list(filter(lambda x : (x >= 1 and x <= 500) ,prices))\n",
    "print(filt_prices)"
   ]
  },
  {
   "cell_type": "code",
   "execution_count": 162,
   "id": "08b9afd0",
   "metadata": {},
   "outputs": [
    {
     "name": "stdout",
     "output_type": "stream",
     "text": [
      "Enter lower bound: 5\n",
      "Enter upper bound: 20\n",
      "[6, 8, 10, 12, 14, 16, 18]\n"
     ]
    }
   ],
   "source": [
    "a = int(input(\"Enter lower bound: \"))\n",
    "b = int(input(\"Enter upper bound: \"))\n",
    "numbers = range(a,b)\n",
    "c = list(filter(lambda x :(x > 0 and x % 2 == 0),numbers))\n",
    "print(c)"
   ]
  },
  {
   "cell_type": "code",
   "execution_count": 161,
   "id": "0f66197f",
   "metadata": {},
   "outputs": [
    {
     "name": "stdout",
     "output_type": "stream",
     "text": [
      "[2, 4, 6, 8, 10]\n"
     ]
    }
   ],
   "source": [
    "def even(n):\n",
    "    return n % 2 == 0\n",
    "\n",
    "n = [1,2,3,4,5,6,7,8,9,10]\n",
    "x = list(filter(even,n))\n",
    "print(x)"
   ]
  },
  {
   "cell_type": "code",
   "execution_count": 177,
   "id": "02b9db1a",
   "metadata": {},
   "outputs": [
    {
     "name": "stdout",
     "output_type": "stream",
     "text": [
      "[2, 4, 6, 8, 10]\n",
      "[1, 3, 5]\n",
      "[2, 4]\n",
      "[False, True, False, True, False]\n"
     ]
    }
   ],
   "source": [
    "n = [1,2,3,4,5]\n",
    "\n",
    "square = list(map(lambda num : num*2,n))\n",
    "print(square)\n",
    "\n",
    "odd = list(filter(lambda num : num % 2 != 0,n))\n",
    "print(odd)\n",
    "\n",
    "even = list(filter(lambda num :num % 2 == 0, n))\n",
    "print(even)\n",
    "\n",
    "even = list(map(lambda num :num %2 == 0, n))\n",
    "print(even)"
   ]
  },
  {
   "cell_type": "code",
   "execution_count": 7,
   "id": "585be37f",
   "metadata": {},
   "outputs": [
    {
     "name": "stdout",
     "output_type": "stream",
     "text": [
      "[2, 4]\n"
     ]
    }
   ],
   "source": [
    "def iseven(num):\n",
    "    return num%2 ==0\n",
    "\n",
    "num = [1,2,3,4,5]\n",
    "even = list(filter(iseven,num))\n",
    "print(even)\n"
   ]
  },
  {
   "cell_type": "code",
   "execution_count": 12,
   "id": "8b0d4857",
   "metadata": {},
   "outputs": [
    {
     "name": "stdout",
     "output_type": "stream",
     "text": [
      "[2, 4]\n"
     ]
    }
   ],
   "source": [
    "num =[1,2,3,4,5]\n",
    "\n",
    "even = list(filter(lambda a : a % 2 ==0,num))\n",
    "print(even)"
   ]
  },
  {
   "cell_type": "code",
   "execution_count": 17,
   "id": "6bb99bb7",
   "metadata": {},
   "outputs": [
    {
     "name": "stdout",
     "output_type": "stream",
     "text": [
      "[3, 4, 5, 6, 7]\n"
     ]
    }
   ],
   "source": [
    "\n",
    "num = [1,2,3,4,5]\n",
    "n= list(map(lambda n: n+2,num))\n",
    "print(n)"
   ]
  },
  {
   "cell_type": "code",
   "execution_count": 20,
   "id": "c9055e0e",
   "metadata": {},
   "outputs": [
    {
     "name": "stdout",
     "output_type": "stream",
     "text": [
      "15\n"
     ]
    }
   ],
   "source": [
    "from functools import reduce\n",
    "\n",
    "def add_all(a,b):\n",
    "    return a+b\n",
    "\n",
    "nums= [1,2,3,4,5]\n",
    "sums = reduce(add_all,nums)\n",
    "print(sums)"
   ]
  },
  {
   "cell_type": "code",
   "execution_count": 22,
   "id": "02e3efb9",
   "metadata": {},
   "outputs": [
    {
     "name": "stdout",
     "output_type": "stream",
     "text": [
      "15\n"
     ]
    }
   ],
   "source": [
    "nums= [1,2,3,4,5]\n",
    "sums = reduce(lambda a,b : a+b,nums)\n",
    "print(sums)"
   ]
  }
 ],
 "metadata": {
  "kernelspec": {
   "display_name": "Python 3 (ipykernel)",
   "language": "python",
   "name": "python3"
  },
  "language_info": {
   "codemirror_mode": {
    "name": "ipython",
    "version": 3
   },
   "file_extension": ".py",
   "mimetype": "text/x-python",
   "name": "python",
   "nbconvert_exporter": "python",
   "pygments_lexer": "ipython3",
   "version": "3.11.3"
  }
 },
 "nbformat": 4,
 "nbformat_minor": 5
}
