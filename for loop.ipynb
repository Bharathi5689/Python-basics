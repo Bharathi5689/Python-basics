{
 "cells": [
  {
   "cell_type": "markdown",
   "id": "1e6272e3",
   "metadata": {},
   "source": [
    "# 1. first 10 natural numbers"
   ]
  },
  {
   "cell_type": "code",
   "execution_count": 1,
   "id": "1eb4fe7c",
   "metadata": {},
   "outputs": [
    {
     "name": "stdout",
     "output_type": "stream",
     "text": [
      "1\n",
      "2\n",
      "3\n",
      "4\n",
      "5\n",
      "6\n",
      "7\n",
      "8\n",
      "9\n",
      "10\n"
     ]
    }
   ],
   "source": [
    "def natural(number):\n",
    "    for i in range(1,number+1):\n",
    "        print(i)\n",
    "natural(10)"
   ]
  },
  {
   "cell_type": "markdown",
   "id": "d6d37a36",
   "metadata": {},
   "source": [
    "# 2. print even numbers"
   ]
  },
  {
   "cell_type": "code",
   "execution_count": 2,
   "id": "253794a5",
   "metadata": {},
   "outputs": [],
   "source": [
    "def even(start,end):\n",
    "    for i in range(start,end,+1):\n",
    "        if i % 2==0:\n",
    "            print(i)\n",
    "    return\n"
   ]
  },
  {
   "cell_type": "code",
   "execution_count": 3,
   "id": "51146c77",
   "metadata": {},
   "outputs": [
    {
     "name": "stdout",
     "output_type": "stream",
     "text": [
      "20\n",
      "22\n",
      "24\n"
     ]
    }
   ],
   "source": [
    "\n",
    "even(20,25)"
   ]
  },
  {
   "cell_type": "markdown",
   "id": "e1355f06",
   "metadata": {},
   "source": [
    "# 3. sum of given numbers"
   ]
  },
  {
   "cell_type": "code",
   "execution_count": 4,
   "id": "4a47f841",
   "metadata": {},
   "outputs": [
    {
     "name": "stdout",
     "output_type": "stream",
     "text": [
      "the total is 55\n"
     ]
    }
   ],
   "source": [
    "def sum_of_numbers(start,end):\n",
    "    total=0\n",
    "    for i in range(start, end + 1):\n",
    "        total = total+ i\n",
    "    return total\n",
    "result= sum_of_numbers(1,10)\n",
    "print(f\"the total is {result}\")"
   ]
  },
  {
   "cell_type": "markdown",
   "id": "3f1425e7",
   "metadata": {},
   "source": [
    "# 4. sum of all odd number in given range"
   ]
  },
  {
   "cell_type": "code",
   "execution_count": 5,
   "id": "16d534db",
   "metadata": {},
   "outputs": [
    {
     "name": "stdout",
     "output_type": "stream",
     "text": [
      "the sum of odd numbers is 9\n"
     ]
    }
   ],
   "source": [
    "def odd_numbers(start,end):\n",
    "    total=0\n",
    "    for i in range(start,end + 1):\n",
    "        if i%2 !=0:\n",
    "            total=total+i\n",
    "    return total\n",
    "result=odd_numbers(1,5)\n",
    "print(f\"the sum of odd numbers is {result}\" )\n",
    "    "
   ]
  },
  {
   "cell_type": "markdown",
   "id": "7732f6d3",
   "metadata": {},
   "source": [
    "# 5. Multiplication table\n"
   ]
  },
  {
   "cell_type": "code",
   "execution_count": 6,
   "id": "59b67a37",
   "metadata": {
    "scrolled": true
   },
   "outputs": [
    {
     "name": "stdout",
     "output_type": "stream",
     "text": [
      "7 * 0 = 0\n",
      "7 * 1 = 7\n",
      "7 * 2 = 14\n",
      "7 * 3 = 21\n",
      "7 * 4 = 28\n",
      "7 * 5 = 35\n",
      "7 * 6 = 42\n",
      "7 * 7 = 49\n",
      "7 * 8 = 56\n",
      "7 * 9 = 63\n"
     ]
    }
   ],
   "source": [
    "def mul(n):\n",
    "    for i in range (10):\n",
    "        print(n,\"*\",i,\"=\",n*i)\n",
    "mul(7)\n"
   ]
  },
  {
   "cell_type": "markdown",
   "id": "fc341939",
   "metadata": {},
   "source": [
    "# 6.display numbers from a list using a for loop"
   ]
  },
  {
   "cell_type": "code",
   "execution_count": 7,
   "id": "21698652",
   "metadata": {},
   "outputs": [
    {
     "name": "stdout",
     "output_type": "stream",
     "text": [
      "10\n",
      "20\n",
      "30\n",
      "40\n",
      "50\n"
     ]
    }
   ],
   "source": [
    "def print_list(list1):\n",
    "    for i in list1:\n",
    "        print(i)            \n",
    "list1=[10,20,30,40,50]\n",
    "print_list(list1)"
   ]
  },
  {
   "cell_type": "markdown",
   "id": "94a49d5b",
   "metadata": {},
   "source": [
    "# 7. count the total number of digits in a number\n"
   ]
  },
  {
   "cell_type": "code",
   "execution_count": 8,
   "id": "572f957a",
   "metadata": {},
   "outputs": [
    {
     "name": "stdout",
     "output_type": "stream",
     "text": [
      "6\n"
     ]
    }
   ],
   "source": [
    "def num_of_digit(number):\n",
    "    count=0\n",
    "    for i in number:\n",
    "        count=count+1\n",
    "    return count\n",
    "x=num_of_digit(\"123456\")\n",
    "print(x)\n",
    " "
   ]
  },
  {
   "cell_type": "markdown",
   "id": "5e146d52",
   "metadata": {},
   "source": [
    "# 8.check if the given string is a palindrome."
   ]
  },
  {
   "cell_type": "code",
   "execution_count": 9,
   "id": "97828534",
   "metadata": {},
   "outputs": [
    {
     "name": "stdout",
     "output_type": "stream",
     "text": [
      "level is a palindrome\n"
     ]
    }
   ],
   "source": [
    "def palindrome(word):\n",
    "    length=len(word)\n",
    "    for i in range(length//2):\n",
    "        if word[i]!=word[length -i -1]:\n",
    "            return False\n",
    "    return True\n",
    "word=\"level\"\n",
    "if palindrome(word):\n",
    "    print(f\"{word} is a palindrome\")\n",
    "else:\n",
    "    print(f\"{word} is not a palindrome\")\n"
   ]
  },
  {
   "cell_type": "markdown",
   "id": "a2560da5",
   "metadata": {},
   "source": [
    "# 9.accepts a word from the user and reverses it\n"
   ]
  },
  {
   "cell_type": "code",
   "execution_count": 10,
   "id": "14c9d1e7",
   "metadata": {},
   "outputs": [
    {
     "name": "stdout",
     "output_type": "stream",
     "text": [
      "ihtarahb\n"
     ]
    }
   ],
   "source": [
    "def word(string):\n",
    "    rev_str=\"\"\n",
    "    for i in string:\n",
    "        rev_str=i+rev_str\n",
    "    print(rev_str)\n",
    "word(\"bharathi\")"
   ]
  },
  {
   "cell_type": "markdown",
   "id": "6a874013",
   "metadata": {},
   "source": [
    "# 10.Armstrong number"
   ]
  },
  {
   "cell_type": "code",
   "execution_count": 19,
   "id": "f374400b",
   "metadata": {},
   "outputs": [
    {
     "name": "stdout",
     "output_type": "stream",
     "text": [
      "Valid\n"
     ]
    }
   ],
   "source": [
    "def armstrong(num):\n",
    "    \n",
    "    original_num = num\n",
    "    arm = 0\n",
    "\n",
    "    while num > 0:\n",
    "        rem = num % 10          # 153%10=3  15%10=5 1%10=1\n",
    "        arm = arm + rem ** 3   #3**3=27, 27+125=152 ,152+1=153\n",
    "        num = num // 10       #15 ,//10 ,1\n",
    "\n",
    "    if original_num == arm:\n",
    "        return \"Valid\"\n",
    "    else:\n",
    "        return \"Invalid\"\n",
    "\n",
    "x = armstrong(153)\n",
    "print(x)\n",
    "\n"
   ]
  },
  {
   "cell_type": "markdown",
   "id": "c3e59bff",
   "metadata": {},
   "source": [
    "# 11. even and odd"
   ]
  },
  {
   "cell_type": "code",
   "execution_count": null,
   "id": "1479fab9",
   "metadata": {},
   "outputs": [],
   "source": [
    "def count(number):\n",
    "    even_count=0\n",
    "    odd_count=0\n",
    "    for i in number:\n",
    "        if i%2==0:\n",
    "            print(i ,\"even\")\n",
    "            even_count=even_count+1\n",
    "        else:\n",
    "            print(i,\"odd\") \n",
    "            odd_count=odd_count+1\n",
    "    return even_count,odd_count\n",
    "number=[12,25,32,43,57,66,77,88,99]\n",
    "count(number)\n",
    "    "
   ]
  },
  {
   "cell_type": "markdown",
   "id": "a956cf38",
   "metadata": {},
   "source": [
    "# 12. display numbers in a range except prime number"
   ]
  },
  {
   "cell_type": "code",
   "execution_count": 54,
   "id": "601a1577",
   "metadata": {},
   "outputs": [
    {
     "name": "stdout",
     "output_type": "stream",
     "text": [
      "[12, 14, 15, 16, 18, 20]\n"
     ]
    }
   ],
   "source": [
    "def non_prime_numbers(start, end):\n",
    "        non_primes = []\n",
    "        if start > 1 and end >= start:\n",
    "            for num in range(start, end + 1):\n",
    "                prime = True  # This variable isn't used, you can remove it\n",
    "                for i in range(2, num):\n",
    "                    if num % i == 0:\n",
    "                        non_primes.append(num)\n",
    "                        break\n",
    "            return non_primes   \n",
    "\n",
    "x = non_prime_numbers(11, 20)\n",
    "print(x)\n",
    "\n",
    "\n",
    "\n",
    "    \n",
    "   "
   ]
  },
  {
   "cell_type": "code",
   "execution_count": 58,
   "id": "976b5d77",
   "metadata": {},
   "outputs": [
    {
     "name": "stdout",
     "output_type": "stream",
     "text": [
      "[11, 13, 17, 19]\n"
     ]
    }
   ],
   "source": [
    "def prime_number(start,end):\n",
    "    primes=[]\n",
    "    if start > 1 and end >= start:\n",
    "        for num in range(start,end+1):\n",
    "                prime=True\n",
    "                for i in range(2,num):\n",
    "                    if(num%i)==0:\n",
    "                        prime=False\n",
    "                        break\n",
    "                if prime:\n",
    "                    primes.append(num)\n",
    "        return primes\n",
    "\n",
    "x=prime_number(11,20)\n",
    "print(x)\n",
    "                    \n"
   ]
  },
  {
   "cell_type": "markdown",
   "id": "5c381969",
   "metadata": {},
   "source": [
    "# 13. Fibonacci 0-50"
   ]
  },
  {
   "cell_type": "code",
   "execution_count": null,
   "id": "a0bfaff3",
   "metadata": {
    "scrolled": true
   },
   "outputs": [],
   "source": [
    "def fibonacci(start,end):\n",
    "    num1 = 0\n",
    "    num2 = 1\n",
    "    for i in range(start,end+1):\n",
    "        print(num1,end = \" \")\n",
    "        result = num1 + num2\n",
    "        num1 = num2\n",
    "        num2 = result\n",
    "    return result\n",
    "fibonacci(0,50)\n",
    "        \n",
    "        "
   ]
  },
  {
   "cell_type": "markdown",
   "id": "1ebb9e28",
   "metadata": {},
   "source": [
    "# 14. Factorial"
   ]
  },
  {
   "cell_type": "code",
   "execution_count": null,
   "id": "393b2dae",
   "metadata": {},
   "outputs": [],
   "source": [
    "def fact(n):\n",
    "    fact=1\n",
    "    for i in range(1,n+1):\n",
    "        fact=fact*i\n",
    "    return fact\n",
    "x=fact(5)\n",
    "print(f\"the fact is {x}\")\n",
    "   "
   ]
  },
  {
   "cell_type": "markdown",
   "id": "a22ca636",
   "metadata": {},
   "source": [
    "# 15. Accept string and count alphabets and numbers"
   ]
  },
  {
   "cell_type": "code",
   "execution_count": null,
   "id": "9eda7238",
   "metadata": {},
   "outputs": [],
   "source": [
    "def accept(x):\n",
    "    alphabet=\"abcdefghijklmnopqrstuvwxyz\"\n",
    "    numeric=\"0123456789\"\n",
    "    alphabet_count=0\n",
    "    numeric_count=0\n",
    "    for i in x:\n",
    "        if i in alphabet:\n",
    "            alphabet_count=alphabet_count+1\n",
    "        elif i in numeric:\n",
    "            numeric_count= numeric_count+1\n",
    "        else:\n",
    "            print(\"special character:\",i)\n",
    "    return alphabet_count,numeric_count\n",
    "x,y=accept(\"123ab*cdf\")\n",
    "print(\"alphabet_count:\",x)\n",
    "print(\"numeric_count\",y)"
   ]
  },
  {
   "cell_type": "markdown",
   "id": "b2c8e7f3",
   "metadata": {},
   "source": [
    "# 16. Iterates 1 to 25"
   ]
  },
  {
   "cell_type": "code",
   "execution_count": 18,
   "id": "59f6aad3",
   "metadata": {},
   "outputs": [
    {
     "name": "stdout",
     "output_type": "stream",
     "text": [
      "0\n",
      "1\n",
      "2\n",
      "3\n",
      "4\n",
      "5\n",
      "6\n",
      "7\n",
      "8\n",
      "9\n",
      "10\n",
      "11\n",
      "12\n",
      "13\n",
      "14\n",
      "15\n",
      "16\n",
      "17\n",
      "18\n",
      "19\n",
      "20\n",
      "21\n",
      "22\n",
      "23\n",
      "24\n"
     ]
    }
   ],
   "source": [
    "def inte(number):\n",
    "    for i in range(0,number):\n",
    "        print(i)\n",
    "    return \n",
    "inte(25)"
   ]
  },
  {
   "cell_type": "markdown",
   "id": "a96d7194",
   "metadata": {},
   "source": [
    "# 17.Validity of password"
   ]
  },
  {
   "cell_type": "code",
   "execution_count": null,
   "id": "ae5953ee",
   "metadata": {},
   "outputs": [],
   "source": [
    "def validity(password):\n",
    "    alphabet = \"abcdefghijklmnopqrstuvwxyz\"\n",
    "    print(alphabet.islower())\n",
    "    numeric = \"0123456789\"\n",
    "    special_characters = \"*,@\"\n",
    "    bool_list=[]\n",
    "    if len(password)>=8:\n",
    "        for char in password:\n",
    "            if char.islower():\n",
    "                bool_list.append(True)\n",
    "            elif char.isupper():\n",
    "                bool_list.append(True)\n",
    "            elif char in special_characters:\n",
    "                bool_list.append(True)\n",
    "            elif char in numeric:\n",
    "                bool_list.append(True)\n",
    "            else:\n",
    "                bool_list.append(False)\n",
    "    else:\n",
    "        bool_list.append(False)\n",
    "    if any(bool_list)== False:\n",
    "        print(\"bharathi\")\n",
    "validity(\"s@68niM9\")\n"
   ]
  },
  {
   "cell_type": "markdown",
   "id": "a6779ef4",
   "metadata": {},
   "source": [
    "# 18. Convert month name to number of days"
   ]
  },
  {
   "cell_type": "code",
   "execution_count": null,
   "id": "6973b2b1",
   "metadata": {},
   "outputs": [],
   "source": [
    "def month_name(month):\n",
    "    month_data = {'January': 31, 'February': 28, 'March': 31, 'April': 30, 'May': 31}\n",
    "    for k,v in month_data.items():\n",
    "        if k ==  month:\n",
    "            return v\n",
    "    return 0    \n",
    "y = \"April\"\n",
    "x = month_name(y)\n",
    "print(f\"Number of days in {y} is :{x} \")"
   ]
  },
  {
   "cell_type": "code",
   "execution_count": null,
   "id": "b0328eb3",
   "metadata": {},
   "outputs": [],
   "source": []
  },
  {
   "cell_type": "code",
   "execution_count": 1,
   "id": "760dba66",
   "metadata": {},
   "outputs": [
    {
     "name": "stdout",
     "output_type": "stream",
     "text": [
      "Valid\n"
     ]
    }
   ],
   "source": [
    "def armstrong(num):\n",
    "    \n",
    "    original_num = num\n",
    "    arm = 0\n",
    "\n",
    "    while num > 0:\n",
    "        rem = num % 10          # 153%10=3  15%10=5 1%10=1\n",
    "        arm = arm + rem ** 3   #3**3=27, 27+125=152 ,152+1=153\n",
    "        num = num // 10       #15 ,10 ,1\n",
    "\n",
    "    if original_num == arm:\n",
    "        return \"Valid\"\n",
    "    else:\n",
    "        return \"Invalid\"\n",
    "\n",
    "x = armstrong(153)\n",
    "print(x)\n"
   ]
  },
  {
   "cell_type": "code",
   "execution_count": null,
   "id": "dccfb5bb",
   "metadata": {},
   "outputs": [],
   "source": [
    "def diff(n):\n",
    "    element_sum = 0\n",
    "    digit_sum = 0\n",
    "    \n",
    "    for i in n:\n",
    "        element_sum = element_sum + i\n",
    "        \n",
    "        total = 0\n",
    "        while i > 0:\n",
    "            digit_sum = digit_sum + total % 10\n",
    "            total //= 10\n",
    "    return element_sum, digit_sum\n",
    "x,y = diff([10,20,30])\n",
    "print(\"Element sum is\", x)\n",
    "print(\"Digit sum is \",y)\n",
    "print(\"Difference is  \", x - y)"
   ]
  }
 ],
 "metadata": {
  "kernelspec": {
   "display_name": "Python 3 (ipykernel)",
   "language": "python",
   "name": "python3"
  },
  "language_info": {
   "codemirror_mode": {
    "name": "ipython",
    "version": 3
   },
   "file_extension": ".py",
   "mimetype": "text/x-python",
   "name": "python",
   "nbconvert_exporter": "python",
   "pygments_lexer": "ipython3",
   "version": "3.11.3"
  }
 },
 "nbformat": 4,
 "nbformat_minor": 5
}
