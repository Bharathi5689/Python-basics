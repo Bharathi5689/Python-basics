{
 "cells": [
  {
   "cell_type": "markdown",
   "id": "64e4ae86",
   "metadata": {},
   "source": [
    "#  1. while loop"
   ]
  },
  {
   "cell_type": "code",
   "execution_count": 1,
   "id": "2ed46451",
   "metadata": {},
   "outputs": [
    {
     "name": "stdout",
     "output_type": "stream",
     "text": [
      "the avg is:  10.5\n",
      "\n",
      "\n",
      "*\n",
      "**\n",
      "***\n",
      "****\n",
      "*****\n",
      "\n",
      "\n",
      "50 * 1 = 50\n",
      "50 * 2 = 100\n",
      "50 * 3 = 150\n",
      "50 * 4 = 200\n",
      "50 * 5 = 250\n",
      "50 * 6 = 300\n",
      "50 * 7 = 350\n",
      "50 * 8 = 400\n",
      "50 * 9 = 450\n",
      "50 * 10 = 500\n",
      "\n",
      "\n",
      "*\n",
      "***\n",
      "*****\n",
      "*******\n",
      "*****\n",
      "***\n",
      "*\n",
      "\n",
      "\n",
      "the fact is 6\n",
      "\n",
      "\n",
      "The GCD of 10 and 15 is 5\n"
     ]
    }
   ],
   "source": [
    "class while_1():\n",
    "    \n",
    "    def __init__(self):\n",
    "        pass\n",
    "    \n",
    "    def sum_1( self, n):\n",
    "        sum = 0\n",
    "        while n > 0:\n",
    "            sum = sum + n\n",
    "            n = n-1\n",
    "        return sum\n",
    "  \n",
    "    def print_1(self, n):\n",
    "        i =1\n",
    "        while i <= n:\n",
    "            print(\"*\" *i)\n",
    "            i = i + 1\n",
    "        \n",
    "    def multiplication(self, n):\n",
    "        i = 1\n",
    "        while i <= 10:\n",
    "            print(n,\"*\",i,\"=\",n*i )\n",
    "            i = i + 1 \n",
    "            \n",
    "    def print_2(self, n):\n",
    "        i = 1\n",
    "        while i <= n:\n",
    "            print(\"*\" *i)\n",
    "            i = i + 2\n",
    "        i = n - 2\n",
    "        while i >= 1:\n",
    "            print(\"*\" *i)\n",
    "            i = i - 2 \n",
    "        \n",
    "    def fact(self,n):\n",
    "        fact = 1\n",
    "        while n >= 1:\n",
    "            fact = fact * n\n",
    "            n = n - 1\n",
    "        return fact\n",
    "    \n",
    "    def gcd(self, x, y):\n",
    "        gcd = 1\n",
    "        i = 1\n",
    "        while i <= x and i <= y:\n",
    "            if x% i == 0 and y % i == 0:\n",
    "                    gcd = i\n",
    "            i = i+1\n",
    "        return gcd \n",
    "        \n",
    "\n",
    "whileloop = while_1()    \n",
    "\n",
    "n = 20\n",
    "x = whileloop.sum_1(n)\n",
    "avg = x / n\n",
    "print(\"the avg is: \",avg)\n",
    "print(\"\\n\")\n",
    "\n",
    "x = whileloop.print_1(5)\n",
    "print(\"\\n\")\n",
    "\n",
    "n = 50\n",
    "x = whileloop.multiplication(n)\n",
    "print(\"\\n\")\n",
    "\n",
    "x = whileloop.print_2(7)\n",
    "print(\"\\n\")\n",
    "\n",
    "x = whileloop.fact(3)\n",
    "print(f\"the fact is {x}\")\n",
    "print(\"\\n\")\n",
    "\n",
    "a = 10\n",
    "b = 15\n",
    "result = whileloop.gcd(a, b)\n",
    "print(f\"The GCD of {a} and {b} is {result}\")\n"
   ]
  },
  {
   "cell_type": "markdown",
   "id": "8d8ca6fd",
   "metadata": {},
   "source": [
    "# LCM "
   ]
  },
  {
   "cell_type": "code",
   "execution_count": 8,
   "id": "5647a0cd",
   "metadata": {},
   "outputs": [
    {
     "data": {
      "text/plain": [
       "6"
      ]
     },
     "execution_count": 8,
     "metadata": {},
     "output_type": "execute_result"
    }
   ],
   "source": [
    "def lcm(a,b):\n",
    "    i = 1\n",
    "    for i in range(1, min(a,b)+1):\n",
    "        if a % i == 0 and b % i == 0:\n",
    "            x = i\n",
    "        i = i + 1\n",
    "    return x\n",
    "lcm(12,6)"
   ]
  },
  {
   "cell_type": "markdown",
   "id": "1f6b315c",
   "metadata": {},
   "source": [
    "# Common factors - leetcode"
   ]
  },
  {
   "cell_type": "code",
   "execution_count": 4,
   "id": "e3374ed6",
   "metadata": {},
   "outputs": [
    {
     "name": "stdout",
     "output_type": "stream",
     "text": [
      "The largest common divisor is: 6\n"
     ]
    }
   ],
   "source": [
    "def lcm(a, b):\n",
    "    x = 1\n",
    "    for i in range(1, min(a, b) + 1):\n",
    "        if a % i == 0 and b % i == 0:\n",
    "            x = i\n",
    "    return x\n",
    "\n",
    "result = lcm(12, 6)\n",
    "print(\"The largest common divisor is:\", result)\n"
   ]
  }
 ],
 "metadata": {
  "kernelspec": {
   "display_name": "Python 3 (ipykernel)",
   "language": "python",
   "name": "python3"
  },
  "language_info": {
   "codemirror_mode": {
    "name": "ipython",
    "version": 3
   },
   "file_extension": ".py",
   "mimetype": "text/x-python",
   "name": "python",
   "nbconvert_exporter": "python",
   "pygments_lexer": "ipython3",
   "version": "3.11.3"
  }
 },
 "nbformat": 4,
 "nbformat_minor": 5
}
