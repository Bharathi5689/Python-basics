{
 "cells": [
  {
   "cell_type": "markdown",
   "id": "e6a5630f",
   "metadata": {},
   "source": [
    "# try except"
   ]
  },
  {
   "cell_type": "code",
   "execution_count": 1,
   "id": "19d843a0",
   "metadata": {},
   "outputs": [
    {
     "ename": "ZeroDivisionError",
     "evalue": "division by zero",
     "output_type": "error",
     "traceback": [
      "\u001b[0;31m---------------------------------------------------------------------------\u001b[0m",
      "\u001b[0;31mZeroDivisionError\u001b[0m                         Traceback (most recent call last)",
      "Cell \u001b[0;32mIn[1], line 3\u001b[0m\n\u001b[1;32m      1\u001b[0m a \u001b[38;5;241m=\u001b[39m \u001b[38;5;241m5\u001b[39m\n\u001b[1;32m      2\u001b[0m b \u001b[38;5;241m=\u001b[39m \u001b[38;5;241m0\u001b[39m\n\u001b[0;32m----> 3\u001b[0m quotient \u001b[38;5;241m=\u001b[39m a \u001b[38;5;241m/\u001b[39m b\n",
      "\u001b[0;31mZeroDivisionError\u001b[0m: division by zero"
     ]
    }
   ],
   "source": [
    "a = 5\n",
    "b = 0\n",
    "quotient = a / b\n"
   ]
  },
  {
   "cell_type": "code",
   "execution_count": 2,
   "id": "ebd42d3c",
   "metadata": {},
   "outputs": [
    {
     "name": "stdout",
     "output_type": "stream",
     "text": [
      "anything by 0 is infinite\n"
     ]
    }
   ],
   "source": [
    "a = 5\n",
    "b = 0\n",
    "\n",
    "try:\n",
    "    quotient = a / b\n",
    "    print (quotient)\n",
    "    \n",
    "except:\n",
    "    print(\"anything by 0 is infinite\")"
   ]
  },
  {
   "cell_type": "code",
   "execution_count": 3,
   "id": "71dcde4a",
   "metadata": {},
   "outputs": [
    {
     "name": "stdout",
     "output_type": "stream",
     "text": [
      "You can only concatenate strings to strings can only concatenate str (not \"int\") to str\n"
     ]
    }
   ],
   "source": [
    "word1 = \"abc\"\n",
    "word2 = 123\n",
    "try:\n",
    "    greeting = word1+word2\n",
    "    print(greeting)\n",
    "    \n",
    "except TypeError as e:\n",
    "    print(f\"You can only concatenate strings to strings {e}\")\n",
    "    \n",
    "except:\n",
    "    print(\"Something else went wrong\")"
   ]
  },
  {
   "cell_type": "code",
   "execution_count": null,
   "id": "c8fe047e",
   "metadata": {},
   "outputs": [],
   "source": [
    "a = 5\n",
    "b = \"zero\"\n",
    "\n",
    "try:\n",
    "    quotient = a /b\n",
    "    print(quotient)\n",
    "    \n",
    "except ZeroDivisionError:\n",
    "    print(\" You cannot divide by zero\")\n",
    "    \n",
    "except TypeError:\n",
    "    \n",
    "    print(\"You must convert string to float or integer before diving\")\n",
    "except NameError:\n",
    "    \n",
    "    print(\"A variable you are trying to use does not exist\")"
   ]
  },
  {
   "cell_type": "code",
   "execution_count": 4,
   "id": "a463e849",
   "metadata": {},
   "outputs": [
    {
     "name": "stdout",
     "output_type": "stream",
     "text": [
      "You cannot divide by zero unsupported operand type(s) for /: 'int' and 'str'\n",
      "You must convert string to float or integer before diving unsupported operand type(s) for /: 'int' and 'str'\n"
     ]
    }
   ],
   "source": [
    "a = 5\n",
    "b = \"zero\"\n",
    "\n",
    "try:\n",
    "    quotient = a / b\n",
    "    print(quotient)\n",
    "    \n",
    "except(ZeroDivisionError, TypeError) as e:\n",
    "    \n",
    "    print(f\"You cannot divide by zero {e}\")\n",
    "    print(f\"You must convert string to float or integer before diving {e}\")\n",
    "    \n",
    "except NameError:\n",
    "    print(\"A variable you are trying to use does not exist\")\n",
    "    \n",
    "except:\n",
    "    print(\"other error\")"
   ]
  },
  {
   "cell_type": "code",
   "execution_count": 5,
   "id": "70c1789e",
   "metadata": {},
   "outputs": [
    {
     "name": "stdout",
     "output_type": "stream",
     "text": [
      "You can only concatenate strings to strings\n",
      "I am out of the code\n"
     ]
    }
   ],
   "source": [
    "try:\n",
    "    greeting = word1 + word2\n",
    "    print(greeting)\n",
    "    \n",
    "except TypeError:\n",
    "    print(\"You can only concatenate strings to strings\")\n",
    "\n",
    "except:\n",
    "    print(\"Somethings else went wrong\")\n",
    "print(\"I am out of the code\")"
   ]
  },
  {
   "cell_type": "markdown",
   "id": "e4b4eb60",
   "metadata": {},
   "source": [
    "# raise"
   ]
  },
  {
   "cell_type": "code",
   "execution_count": 6,
   "id": "7b9eee4f",
   "metadata": {},
   "outputs": [
    {
     "ename": "TypeError",
     "evalue": "Sorry, only strings are allowed",
     "output_type": "error",
     "traceback": [
      "\u001b[0;31m---------------------------------------------------------------------------\u001b[0m",
      "\u001b[0;31mTypeError\u001b[0m                                 Traceback (most recent call last)",
      "Cell \u001b[0;32mIn[6], line 4\u001b[0m\n\u001b[1;32m      1\u001b[0m x \u001b[38;5;241m=\u001b[39m \u001b[38;5;241m-\u001b[39m \u001b[38;5;241m5\u001b[39m\n\u001b[1;32m      3\u001b[0m \u001b[38;5;28;01mif\u001b[39;00m \u001b[38;5;129;01mnot\u001b[39;00m \u001b[38;5;28mtype\u001b[39m(x) \u001b[38;5;129;01mis\u001b[39;00m \u001b[38;5;28mstr\u001b[39m:\n\u001b[0;32m----> 4\u001b[0m     \u001b[38;5;28;01mraise\u001b[39;00m \u001b[38;5;167;01mTypeError\u001b[39;00m(\u001b[38;5;124m\"\u001b[39m\u001b[38;5;124mSorry, only strings are allowed\u001b[39m\u001b[38;5;124m\"\u001b[39m)\n\u001b[1;32m      5\u001b[0m \u001b[38;5;28mprint\u001b[39m(\u001b[38;5;124m\"\u001b[39m\u001b[38;5;124mI am out of the code\u001b[39m\u001b[38;5;124m\"\u001b[39m)\n",
      "\u001b[0;31mTypeError\u001b[0m: Sorry, only strings are allowed"
     ]
    }
   ],
   "source": [
    "x = - 5\n",
    "\n",
    "if not type(x) is str:\n",
    "    raise TypeError(\"Sorry, only strings are allowed\")\n",
    "print(\"I am out of the code\")"
   ]
  },
  {
   "cell_type": "code",
   "execution_count": 7,
   "id": "b5ffd582",
   "metadata": {},
   "outputs": [
    {
     "ename": "TypeError",
     "evalue": "Sorry, please enter a number greather than or equal to 0",
     "output_type": "error",
     "traceback": [
      "\u001b[0;31m---------------------------------------------------------------------------\u001b[0m",
      "\u001b[0;31mTypeError\u001b[0m                                 Traceback (most recent call last)",
      "Cell \u001b[0;32mIn[7], line 3\u001b[0m\n\u001b[1;32m      1\u001b[0m x \u001b[38;5;241m=\u001b[39m \u001b[38;5;241m-\u001b[39m \u001b[38;5;241m5\u001b[39m\n\u001b[1;32m      2\u001b[0m \u001b[38;5;28;01mif\u001b[39;00m \u001b[38;5;129;01mnot\u001b[39;00m x  \u001b[38;5;241m>\u001b[39m\u001b[38;5;241m=\u001b[39m \u001b[38;5;241m0\u001b[39m:\n\u001b[0;32m----> 3\u001b[0m         \u001b[38;5;28;01mraise\u001b[39;00m \u001b[38;5;167;01mTypeError\u001b[39;00m(\u001b[38;5;124m\"\u001b[39m\u001b[38;5;124mSorry, please enter a number greather than or equal to 0\u001b[39m\u001b[38;5;124m\"\u001b[39m)\n",
      "\u001b[0;31mTypeError\u001b[0m: Sorry, please enter a number greather than or equal to 0"
     ]
    }
   ],
   "source": [
    "x = - 5\n",
    "if not x  >= 0:\n",
    "        raise TypeError(\"Sorry, please enter a number greather than or equal to 0\")\n"
   ]
  },
  {
   "cell_type": "code",
   "execution_count": 8,
   "id": "4bd9084f",
   "metadata": {},
   "outputs": [
    {
     "name": "stdout",
     "output_type": "stream",
     "text": [
      "division by zero\n"
     ]
    }
   ],
   "source": [
    "a = 5\n",
    "b = 0\n",
    "\n",
    "try:\n",
    "    quotient = a / b\n",
    "    print(quotient)\n",
    "    \n",
    "except Exception as e:\n",
    "    print(e)"
   ]
  },
  {
   "cell_type": "code",
   "execution_count": 9,
   "id": "cb8dc61d",
   "metadata": {},
   "outputs": [
    {
     "name": "stdout",
     "output_type": "stream",
     "text": [
      "Index is out of bound\n"
     ]
    }
   ],
   "source": [
    "try:\n",
    "    even = [0,2,4,6]\n",
    "    print(even[5])\n",
    "    \n",
    "except ZeroDivisionError:\n",
    "    print(\"Denominator cannot be 0\")\n",
    "    \n",
    "except IndexError:\n",
    "    print(\"Index is out of bound\")\n"
   ]
  },
  {
   "cell_type": "markdown",
   "id": "270d8cf6",
   "metadata": {},
   "source": [
    "# try except else"
   ]
  },
  {
   "cell_type": "code",
   "execution_count": 12,
   "id": "8df5f711",
   "metadata": {},
   "outputs": [
    {
     "name": "stdout",
     "output_type": "stream",
     "text": [
      "Enter a number:  5\n",
      "not an even number\n"
     ]
    }
   ],
   "source": [
    "try:\n",
    "    num = int(input(\"Enter a number:  \"))\n",
    "    #print(num,type(num))\n",
    "    assert num % 2 == 0 \n",
    "    \n",
    "except:\n",
    "    print(\"not an even number\")\n",
    "    \n",
    "else:\n",
    "    reciprocal = 1/ num\n",
    "    print(reciprocal)"
   ]
  },
  {
   "cell_type": "markdown",
   "id": "ae0998cf",
   "metadata": {},
   "source": [
    "# try except finally"
   ]
  },
  {
   "cell_type": "code",
   "execution_count": 14,
   "id": "6ff22906",
   "metadata": {},
   "outputs": [
    {
     "name": "stdout",
     "output_type": "stream",
     "text": [
      "0.5\n",
      "This is finally block\n"
     ]
    }
   ],
   "source": [
    "try:\n",
    "    a = 5\n",
    "    b = 10\n",
    "    result = a / b\n",
    "    print(result)\n",
    "\n",
    "except:\n",
    "    print(\"ZeroDivision Error\")\n",
    "\n",
    "finally:\n",
    "    print(\"This is finally block\")\n",
    " "
   ]
  },
  {
   "cell_type": "markdown",
   "id": "bf363b0e",
   "metadata": {},
   "source": [
    "# extend, append"
   ]
  },
  {
   "cell_type": "code",
   "execution_count": 15,
   "id": "409ccb8b",
   "metadata": {},
   "outputs": [
    {
     "name": "stdout",
     "output_type": "stream",
     "text": [
      "Original list is :  ['apple', 'mango', 'orange']\n",
      " Appended list is:  ['apple', 'mango', 'orange', 'kiwi']\n"
     ]
    }
   ],
   "source": [
    "list_1 = ['apple','mango', 'orange']\n",
    "print(\"Original list is : \",str(list_1))\n",
    "list_1.append(\"kiwi\")\n",
    "print(\" Appended list is: \",str(list_1))"
   ]
  },
  {
   "cell_type": "code",
   "execution_count": 21,
   "id": "bbe7a2d1",
   "metadata": {},
   "outputs": [
    {
     "name": "stdout",
     "output_type": "stream",
     "text": [
      "Original list is :  ['apple', 'mango', 'orange']\n",
      "Appended list is:  ['apple', 'mango', 'orange', ['guava', 'custard', 'jamun']]\n"
     ]
    }
   ],
   "source": [
    "list_1 = ['apple','mango', 'orange']\n",
    "print(\"Original list is : \",str(list_1))\n",
    "list_1.append(['guava','custard','jamun'])\n",
    "print(\"Appended list is: \",str(list_1))"
   ]
  },
  {
   "cell_type": "code",
   "execution_count": 19,
   "id": "fbe544fa",
   "metadata": {},
   "outputs": [
    {
     "name": "stdout",
     "output_type": "stream",
     "text": [
      "Original list is :  ['apple', 'mango', 'orange']\n",
      "Appended list is:  ['apple', 'mango', 'orange', 'k', 'i', 'w', 'i']\n"
     ]
    }
   ],
   "source": [
    "list_1 = ['apple','mango', 'orange']\n",
    "print(\"Original list is : \",str(list_1))\n",
    "list_1.extend('kiwi')\n",
    "print(\"Appended list is: \",str(list_1))"
   ]
  },
  {
   "cell_type": "code",
   "execution_count": 20,
   "id": "ee7ff8e3",
   "metadata": {},
   "outputs": [
    {
     "name": "stdout",
     "output_type": "stream",
     "text": [
      "Original list is :  ['apple', 'mango', 'orange']\n",
      "Appended list is:  ['apple', 'mango', 'orange', 'guava', 'custard', 'jamun']\n"
     ]
    }
   ],
   "source": [
    "list_1 = ['apple','mango', 'orange']\n",
    "print(\"Original list is : \",str(list_1))\n",
    "list_1.extend(['guava','custard','jamun'])\n",
    "print(\"Appended list is: \",str(list_1))"
   ]
  },
  {
   "cell_type": "code",
   "execution_count": 22,
   "id": "6beb2e0d",
   "metadata": {},
   "outputs": [
    {
     "name": "stdout",
     "output_type": "stream",
     "text": [
      "['orange', 'mango', 'kiwi']\n"
     ]
    }
   ],
   "source": [
    "list_2=[\"orange\",\"mango\"]\n",
    "list_2.extend(['kiwi'])\n",
    "print(str(list_2))"
   ]
  },
  {
   "cell_type": "markdown",
   "id": "675f6201",
   "metadata": {},
   "source": [
    "# try except"
   ]
  },
  {
   "cell_type": "code",
   "execution_count": 23,
   "id": "96e9fe4e",
   "metadata": {},
   "outputs": [
    {
     "name": "stdout",
     "output_type": "stream",
     "text": [
      "anything by 0 is infinite division by zero\n"
     ]
    }
   ],
   "source": [
    "a = 5\n",
    "b = 0\n",
    "\n",
    "try:\n",
    "    quotient = a / b\n",
    "    print (quotient)\n",
    "except Exception as  e:\n",
    "    print(f\"anything by 0 is infinite {e}\")"
   ]
  }
 ],
 "metadata": {
  "kernelspec": {
   "display_name": "Python 3 (ipykernel)",
   "language": "python",
   "name": "python3"
  },
  "language_info": {
   "codemirror_mode": {
    "name": "ipython",
    "version": 3
   },
   "file_extension": ".py",
   "mimetype": "text/x-python",
   "name": "python",
   "nbconvert_exporter": "python",
   "pygments_lexer": "ipython3",
   "version": "3.11.3"
  }
 },
 "nbformat": 4,
 "nbformat_minor": 5
}
