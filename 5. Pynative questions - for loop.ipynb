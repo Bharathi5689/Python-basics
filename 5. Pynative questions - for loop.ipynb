{
 "cells": [
  {
   "cell_type": "code",
   "execution_count": 3,
   "id": "4e4f0528",
   "metadata": {},
   "outputs": [
    {
     "name": "stdout",
     "output_type": "stream",
     "text": [
      "1\n",
      "2\n",
      "3\n",
      "4\n",
      "5\n",
      "\n",
      "\n",
      "\n",
      "1 \n",
      "2 2 \n",
      "3 3 3 \n",
      "\n",
      "\n",
      "The sum is 14\n",
      "\n",
      "\n",
      "the factorial is 0\n",
      "\n",
      "\n"
     ]
    }
   ],
   "source": [
    "class PyNative():\n",
    "    \n",
    "    def __init__(self):\n",
    "        pass\n",
    "    \n",
    "    def print_natural_number(self,n):\n",
    "        i = 1\n",
    "        while i <= n:\n",
    "            print(i)\n",
    "            i = i + 1  \n",
    "  \n",
    "    def number_pattern(self,n):\n",
    "        for i in range(n):\n",
    "            for j in range(i):\n",
    "                print (i,end=\" \")\n",
    "            print(\"\")\n",
    "            \n",
    "    def sum_of_number(self,start,end):\n",
    "        sum = 0\n",
    "        for i in range(start,end+1):\n",
    "            sum=sum+i    \n",
    "        return sum\n",
    "    \n",
    "    def fact(self,n):\n",
    "        fact = 1\n",
    "        if n == 0:\n",
    "            return 0\n",
    "        for i in range(1,n+1):\n",
    "            fact = fact * i\n",
    "        return fact\n",
    "       \n",
    "            \n",
    "pynative = PyNative()\n",
    "\n",
    "pynative.print_natural_number(5)\n",
    "print(\"\\n\")\n",
    "\n",
    "pynative.number_pattern(4)\n",
    "print(\"\\n\")\n",
    "\n",
    "sum_of_number = pynative.sum_of_number(2,5)\n",
    "print(f\"The sum is {sum_of_number}\")\n",
    "print(\"\\n\")\n",
    "\n",
    "fact=pynative.fact(0)\n",
    "print(f\"the factorial is {fact}\")\n",
    "print(\"\\n\")\n",
    "\n",
    "        "
   ]
  },
  {
   "cell_type": "code",
   "execution_count": null,
   "id": "3ac96be2",
   "metadata": {},
   "outputs": [],
   "source": []
  }
 ],
 "metadata": {
  "kernelspec": {
   "display_name": "Python 3 (ipykernel)",
   "language": "python",
   "name": "python3"
  },
  "language_info": {
   "codemirror_mode": {
    "name": "ipython",
    "version": 3
   },
   "file_extension": ".py",
   "mimetype": "text/x-python",
   "name": "python",
   "nbconvert_exporter": "python",
   "pygments_lexer": "ipython3",
   "version": "3.11.3"
  }
 },
 "nbformat": 4,
 "nbformat_minor": 5
}
